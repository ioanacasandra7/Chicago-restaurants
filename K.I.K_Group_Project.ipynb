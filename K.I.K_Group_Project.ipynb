{
 "cells": [
  {
   "cell_type": "code",
   "execution_count": 3,
   "metadata": {},
   "outputs": [],
   "source": [
    "import matplotlib.pyplot as plt\n",
    "import numpy as np\n",
    "import pandas as pd\n",
    "import scipy.stats as st\n",
    "from scipy.stats import linregress\n",
    "from sklearn.linear_model import LogisticRegression\n",
    "from sklearn.metrics import classification_report, confusion_matrix\n",
    "import gmaps\n",
    "from sklearn import preprocessing\n",
    "plt.rc(\"font\", size=14)\n",
    "from sklearn.model_selection import train_test_split\n",
    "import seaborn as sns\n",
    "sns.set(style=\"white\")\n",
    "sns.set(style=\"whitegrid\", color_codes=True)\n",
    "import statsmodels"
   ]
  },
  {
   "cell_type": "code",
   "execution_count": 4,
   "metadata": {},
   "outputs": [],
   "source": [
    "#import csv file\n",
    "data=pd.read_csv(\"/Users/ioanahancu/Desktop/Food_Inspections.csv\")"
   ]
  },
  {
   "cell_type": "code",
   "execution_count": 5,
   "metadata": {},
   "outputs": [
    {
     "data": {
      "text/html": [
       "<div>\n",
       "<style scoped>\n",
       "    .dataframe tbody tr th:only-of-type {\n",
       "        vertical-align: middle;\n",
       "    }\n",
       "\n",
       "    .dataframe tbody tr th {\n",
       "        vertical-align: top;\n",
       "    }\n",
       "\n",
       "    .dataframe thead th {\n",
       "        text-align: right;\n",
       "    }\n",
       "</style>\n",
       "<table border=\"1\" class=\"dataframe\">\n",
       "  <thead>\n",
       "    <tr style=\"text-align: right;\">\n",
       "      <th></th>\n",
       "      <th>Inspection ID</th>\n",
       "      <th>DBA Name</th>\n",
       "      <th>AKA Name</th>\n",
       "      <th>License #</th>\n",
       "      <th>Facility Type</th>\n",
       "      <th>Risk</th>\n",
       "      <th>Address</th>\n",
       "      <th>City</th>\n",
       "      <th>State</th>\n",
       "      <th>Zip</th>\n",
       "      <th>Inspection Date</th>\n",
       "      <th>Inspection Type</th>\n",
       "      <th>Results</th>\n",
       "      <th>Violations</th>\n",
       "      <th>Latitude</th>\n",
       "      <th>Longitude</th>\n",
       "      <th>Location</th>\n",
       "    </tr>\n",
       "  </thead>\n",
       "  <tbody>\n",
       "    <tr>\n",
       "      <th>0</th>\n",
       "      <td>2345928</td>\n",
       "      <td>ALBANY CHILD CARE CENTER</td>\n",
       "      <td>ALBANY CHILD CARE CENTER</td>\n",
       "      <td>2215697.0</td>\n",
       "      <td>Daycare Above and Under 2 Years</td>\n",
       "      <td>Risk 1 (High)</td>\n",
       "      <td>5954 S ALBANY AVE</td>\n",
       "      <td>CHICAGO</td>\n",
       "      <td>IL</td>\n",
       "      <td>60629.0</td>\n",
       "      <td>11/19/2019</td>\n",
       "      <td>Canvass</td>\n",
       "      <td>Pass</td>\n",
       "      <td>55. PHYSICAL FACILITIES INSTALLED, MAINTAINED ...</td>\n",
       "      <td>41.784667</td>\n",
       "      <td>-87.701011</td>\n",
       "      <td>(41.784667360966026, -87.7010111792713)</td>\n",
       "    </tr>\n",
       "    <tr>\n",
       "      <th>1</th>\n",
       "      <td>2240486</td>\n",
       "      <td>TAMALES EMMA LA CHAPARRITA</td>\n",
       "      <td>LA CHAPARRITA</td>\n",
       "      <td>2501598.0</td>\n",
       "      <td>Restaurant</td>\n",
       "      <td>Risk 1 (High)</td>\n",
       "      <td>2500 S WHIPPLE ST</td>\n",
       "      <td>CHICAGO</td>\n",
       "      <td>IL</td>\n",
       "      <td>60623.0</td>\n",
       "      <td>11/20/2018</td>\n",
       "      <td>Complaint</td>\n",
       "      <td>Fail</td>\n",
       "      <td>1. PERSON IN CHARGE PRESENT, DEMONSTRATES KNOW...</td>\n",
       "      <td>41.846288</td>\n",
       "      <td>-87.701562</td>\n",
       "      <td>(41.846287752477586, -87.70156191989919)</td>\n",
       "    </tr>\n",
       "    <tr>\n",
       "      <th>2</th>\n",
       "      <td>2078297</td>\n",
       "      <td>CHARTWELLS</td>\n",
       "      <td>MANSUETO HIGH SCHOOL</td>\n",
       "      <td>2549059.0</td>\n",
       "      <td>HIGH SCHOOL KITCHEN</td>\n",
       "      <td>Risk 1 (High)</td>\n",
       "      <td>2911 W W 47TH ST</td>\n",
       "      <td>CHICAGO</td>\n",
       "      <td>IL</td>\n",
       "      <td>60632.0</td>\n",
       "      <td>08/11/2017</td>\n",
       "      <td>License</td>\n",
       "      <td>Pass</td>\n",
       "      <td>NaN</td>\n",
       "      <td>NaN</td>\n",
       "      <td>NaN</td>\n",
       "      <td>NaN</td>\n",
       "    </tr>\n",
       "    <tr>\n",
       "      <th>3</th>\n",
       "      <td>2369894</td>\n",
       "      <td>JIMMY'S FOOD &amp; DELI,INC</td>\n",
       "      <td>JIMMY'S FOOD &amp; DELI</td>\n",
       "      <td>2511672.0</td>\n",
       "      <td>Grocery Store</td>\n",
       "      <td>Risk 2 (Medium)</td>\n",
       "      <td>5601 W MADISON ST</td>\n",
       "      <td>CHICAGO</td>\n",
       "      <td>IL</td>\n",
       "      <td>60644.0</td>\n",
       "      <td>04/29/2020</td>\n",
       "      <td>Canvass</td>\n",
       "      <td>Fail</td>\n",
       "      <td>3. MANAGEMENT, FOOD EMPLOYEE AND CONDITIONAL E...</td>\n",
       "      <td>41.880135</td>\n",
       "      <td>-87.764942</td>\n",
       "      <td>(41.880135062255434, -87.7649424467103)</td>\n",
       "    </tr>\n",
       "    <tr>\n",
       "      <th>4</th>\n",
       "      <td>2184537</td>\n",
       "      <td>MYSORE WOODLANDS</td>\n",
       "      <td>MYSORE WOODLANDS</td>\n",
       "      <td>2229409.0</td>\n",
       "      <td>Restaurant</td>\n",
       "      <td>Risk 1 (High)</td>\n",
       "      <td>2548-2550 W DEVON AVE</td>\n",
       "      <td>CHICAGO</td>\n",
       "      <td>IL</td>\n",
       "      <td>60659.0</td>\n",
       "      <td>07/12/2018</td>\n",
       "      <td>Canvass</td>\n",
       "      <td>Pass w/ Conditions</td>\n",
       "      <td>3. MANAGEMENT, FOOD EMPLOYEE AND CONDITIONAL E...</td>\n",
       "      <td>41.997765</td>\n",
       "      <td>-87.694284</td>\n",
       "      <td>(41.9977653535896, -87.69428406894727)</td>\n",
       "    </tr>\n",
       "  </tbody>\n",
       "</table>\n",
       "</div>"
      ],
      "text/plain": [
       "   Inspection ID                    DBA Name                  AKA Name  \\\n",
       "0        2345928    ALBANY CHILD CARE CENTER  ALBANY CHILD CARE CENTER   \n",
       "1        2240486  TAMALES EMMA LA CHAPARRITA             LA CHAPARRITA   \n",
       "2        2078297                  CHARTWELLS      MANSUETO HIGH SCHOOL   \n",
       "3        2369894     JIMMY'S FOOD & DELI,INC       JIMMY'S FOOD & DELI   \n",
       "4        2184537            MYSORE WOODLANDS          MYSORE WOODLANDS   \n",
       "\n",
       "   License #                    Facility Type             Risk  \\\n",
       "0  2215697.0  Daycare Above and Under 2 Years    Risk 1 (High)   \n",
       "1  2501598.0                       Restaurant    Risk 1 (High)   \n",
       "2  2549059.0              HIGH SCHOOL KITCHEN    Risk 1 (High)   \n",
       "3  2511672.0                    Grocery Store  Risk 2 (Medium)   \n",
       "4  2229409.0                       Restaurant    Risk 1 (High)   \n",
       "\n",
       "                 Address     City State      Zip Inspection Date  \\\n",
       "0      5954 S ALBANY AVE  CHICAGO    IL  60629.0      11/19/2019   \n",
       "1      2500 S WHIPPLE ST  CHICAGO    IL  60623.0      11/20/2018   \n",
       "2      2911 W W 47TH ST   CHICAGO    IL  60632.0      08/11/2017   \n",
       "3      5601 W MADISON ST  CHICAGO    IL  60644.0      04/29/2020   \n",
       "4  2548-2550 W DEVON AVE  CHICAGO    IL  60659.0      07/12/2018   \n",
       "\n",
       "  Inspection Type             Results  \\\n",
       "0         Canvass                Pass   \n",
       "1       Complaint                Fail   \n",
       "2         License                Pass   \n",
       "3         Canvass                Fail   \n",
       "4         Canvass  Pass w/ Conditions   \n",
       "\n",
       "                                          Violations   Latitude  Longitude  \\\n",
       "0  55. PHYSICAL FACILITIES INSTALLED, MAINTAINED ...  41.784667 -87.701011   \n",
       "1  1. PERSON IN CHARGE PRESENT, DEMONSTRATES KNOW...  41.846288 -87.701562   \n",
       "2                                                NaN        NaN        NaN   \n",
       "3  3. MANAGEMENT, FOOD EMPLOYEE AND CONDITIONAL E...  41.880135 -87.764942   \n",
       "4  3. MANAGEMENT, FOOD EMPLOYEE AND CONDITIONAL E...  41.997765 -87.694284   \n",
       "\n",
       "                                   Location  \n",
       "0   (41.784667360966026, -87.7010111792713)  \n",
       "1  (41.846287752477586, -87.70156191989919)  \n",
       "2                                       NaN  \n",
       "3   (41.880135062255434, -87.7649424467103)  \n",
       "4    (41.9977653535896, -87.69428406894727)  "
      ]
     },
     "execution_count": 5,
     "metadata": {},
     "output_type": "execute_result"
    }
   ],
   "source": [
    "data.head()"
   ]
  },
  {
   "cell_type": "code",
   "execution_count": 6,
   "metadata": {
    "tags": []
   },
   "outputs": [
    {
     "name": "stdout",
     "output_type": "stream",
     "text": [
      "(208254, 17)\n"
     ]
    }
   ],
   "source": [
    "#number or rows and columns in the dataset\n",
    "print(data.shape)"
   ]
  },
  {
   "cell_type": "code",
   "execution_count": null,
   "metadata": {},
   "outputs": [],
   "source": []
  },
  {
   "cell_type": "code",
   "execution_count": 7,
   "metadata": {},
   "outputs": [
    {
     "data": {
      "text/plain": [
       "True"
      ]
     },
     "execution_count": 7,
     "metadata": {},
     "output_type": "execute_result"
    }
   ],
   "source": [
    "#check if there are any null values\n",
    "data.isnull().values.any()"
   ]
  },
  {
   "cell_type": "code",
   "execution_count": 8,
   "metadata": {},
   "outputs": [
    {
     "data": {
      "text/plain": [
       "AKA Name            2479\n",
       "License #             17\n",
       "Facility Type       4861\n",
       "Risk                  73\n",
       "City                 150\n",
       "State                 48\n",
       "Zip                   50\n",
       "Inspection Type        1\n",
       "Violations         55325\n",
       "Latitude             688\n",
       "Longitude            688\n",
       "Location             688\n",
       "dtype: int64"
      ]
     },
     "execution_count": 8,
     "metadata": {},
     "output_type": "execute_result"
    }
   ],
   "source": [
    "#view all the columns that have null values\n",
    "null_columns=data.columns[data.isnull().any()]\n",
    "data[null_columns].isnull().sum()"
   ]
  },
  {
   "cell_type": "code",
   "execution_count": 8,
   "metadata": {
    "tags": []
   },
   "outputs": [
    {
     "name": "stdout",
     "output_type": "stream",
     "text": [
      "                               AKA Name  License #  \\\n",
      "4483               ST. DEMETRIOS CHURCH        NaN   \n",
      "4641               ST. DEMETRIOS CHURCH        NaN   \n",
      "34562   GOD'S BATTLE AXE PRAYER ACADEMY        NaN   \n",
      "45604              ST. DEMETRIOS CHURCH        NaN   \n",
      "60700          OLD ST. PATRICK'S CHURCH        NaN   \n",
      "94116          OLD ST. PATRICK'S CHURCH        NaN   \n",
      "96001              ST. DEMETRIOS CHURCH        NaN   \n",
      "96068                               NaN        NaN   \n",
      "99050   GOD'S BATTLE AXE PRAYER ACADEMY        NaN   \n",
      "114901                              NaN        NaN   \n",
      "122683             ST. DEMETRIOS CHURCH        NaN   \n",
      "124533             ST. DEMETRIOS CHURCH        NaN   \n",
      "132290             ST. DEMETRIOS CHURCH        NaN   \n",
      "184529             ST. DEMETRIOS CHURCH        NaN   \n",
      "194554             ST. DEMETRIOS CHURCH        NaN   \n",
      "196808  GOD'S BATTLE AXE PRAYER ACADEMY        NaN   \n",
      "196948                  ARGENTINA FOODS        NaN   \n",
      "\n",
      "                      Facility Type             Risk     City State      Zip  \\\n",
      "4483                  Special Event  Risk 2 (Medium)  CHICAGO    IL  60625.0   \n",
      "4641                  Special Event  Risk 2 (Medium)  CHICAGO    IL  60625.0   \n",
      "34562               CHURCH/DAY CARE    Risk 1 (High)  CHICAGO    IL  60645.0   \n",
      "45604                 Special Event  Risk 2 (Medium)  CHICAGO    IL  60625.0   \n",
      "60700                        Church  Risk 2 (Medium)  CHICAGO    IL  60661.0   \n",
      "94116                        Church  Risk 2 (Medium)  CHICAGO    IL  60661.0   \n",
      "96001                 Special Event  Risk 2 (Medium)  CHICAGO    IL  60625.0   \n",
      "96068   CHURCH/AFTER SCHOOL PROGRAM    Risk 1 (High)  CHICAGO    IL  60619.0   \n",
      "99050               CHURCH/DAY CARE    Risk 1 (High)  CHICAGO    IL  60645.0   \n",
      "114901                Special Event    Risk 1 (High)  CHICAGO    IL  60625.0   \n",
      "122683                Special Event  Risk 2 (Medium)  CHICAGO    IL  60625.0   \n",
      "124533                Special Event  Risk 2 (Medium)  CHICAGO    IL  60625.0   \n",
      "132290                Special Event  Risk 2 (Medium)  CHICAGO    IL  60625.0   \n",
      "184529                Special Event  Risk 2 (Medium)  CHICAGO    IL  60625.0   \n",
      "194554                Special Event  Risk 2 (Medium)  CHICAGO    IL  60625.0   \n",
      "196808              CHURCH/DAY CARE    Risk 1 (High)  CHICAGO    IL  60645.0   \n",
      "196948                Grocery Store  Risk 2 (Medium)  CHICAGO    IL  60609.0   \n",
      "\n",
      "                   Inspection Type  \\\n",
      "4483                       Canvass   \n",
      "4641                       Canvass   \n",
      "34562        Canvass Re-Inspection   \n",
      "45604                      Canvass   \n",
      "60700   Special Events (Festivals)   \n",
      "94116   Special Events (Festivals)   \n",
      "96001                      Canvass   \n",
      "96068         Short Form Complaint   \n",
      "99050        Canvass Re-Inspection   \n",
      "114901  Special Events (Festivals)   \n",
      "122683                     Canvass   \n",
      "124533                     Canvass   \n",
      "132290                     Canvass   \n",
      "184529                     Canvass   \n",
      "194554                     Canvass   \n",
      "196808                     Canvass   \n",
      "196948                     Canvass   \n",
      "\n",
      "                                               Violations   Latitude  \\\n",
      "4483    32. FOOD AND NON-FOOD CONTACT SURFACES PROPERL...  41.974653   \n",
      "4641                                                  NaN  41.974653   \n",
      "34562                                                 NaN  42.008303   \n",
      "45604   33. FOOD AND NON-FOOD CONTACT EQUIPMENT UTENSI...  41.974653   \n",
      "60700   33. FOOD AND NON-FOOD CONTACT EQUIPMENT UTENSI...  41.879367   \n",
      "94116   34. FLOORS: CONSTRUCTED PER CODE, CLEANED, GOO...  41.879367   \n",
      "96001   38. VENTILATION: ROOMS AND EQUIPMENT VENTED AS...  41.974653   \n",
      "96068                                                 NaN  41.747711   \n",
      "99050   9. WATER SOURCE: SAFE, HOT & COLD UNDER CITY P...  42.008303   \n",
      "114901  32. FOOD AND NON-FOOD CONTACT SURFACES PROPERL...  41.974653   \n",
      "122683  32. FOOD AND NON-FOOD CONTACT SURFACES PROPERL...  41.974653   \n",
      "124533  32. FOOD AND NON-FOOD CONTACT SURFACES PROPERL...  41.974653   \n",
      "132290  33. FOOD AND NON-FOOD CONTACT EQUIPMENT UTENSI...  41.974653   \n",
      "184529  3. MANAGEMENT, FOOD EMPLOYEE AND CONDITIONAL E...  41.974653   \n",
      "194554                                                NaN  41.974653   \n",
      "196808  11. ADEQUATE NUMBER, CONVENIENT, ACCESSIBLE, D...  42.008303   \n",
      "196948                                                NaN  41.812105   \n",
      "\n",
      "        Longitude                                  Location  \n",
      "4483   -87.697529  (41.974653353169366, -87.69752945714046)  \n",
      "4641   -87.697529  (41.974653353169366, -87.69752945714046)  \n",
      "34562  -87.690005  (42.008303130687445, -87.69000508529592)  \n",
      "45604  -87.697529  (41.974653353169366, -87.69752945714046)  \n",
      "60700  -87.644105   (41.87936739625875, -87.64410546134096)  \n",
      "94116  -87.644105   (41.87936739625875, -87.64410546134096)  \n",
      "96001  -87.697529  (41.974653353169366, -87.69752945714046)  \n",
      "96068  -87.589539     (41.7477112449663, -87.5895386579929)  \n",
      "99050  -87.690005  (42.008303130687445, -87.69000508529592)  \n",
      "114901 -87.697529  (41.974653353169366, -87.69752945714046)  \n",
      "122683 -87.697529  (41.974653353169366, -87.69752945714046)  \n",
      "124533 -87.697529  (41.974653353169366, -87.69752945714046)  \n",
      "132290 -87.697529  (41.974653353169366, -87.69752945714046)  \n",
      "184529 -87.697529  (41.974653353169366, -87.69752945714046)  \n",
      "194554 -87.697529  (41.974653353169366, -87.69752945714046)  \n",
      "196808 -87.690005  (42.008303130687445, -87.69000508529592)  \n",
      "196948 -87.670072   (41.81210515297724, -87.67007183351623)  \n"
     ]
    }
   ],
   "source": [
    "#look at specific column that have nulls\n",
    "print(data[data[\"License #\"].isnull()][null_columns])"
   ]
  },
  {
   "cell_type": "code",
   "execution_count": 9,
   "metadata": {
    "tags": []
   },
   "outputs": [
    {
     "name": "stdout",
     "output_type": "stream",
     "text": [
      "(138590, 17)\n"
     ]
    }
   ],
   "source": [
    "# filter the dataset by facility type =restaurant and look at its shape\n",
    "restaurant_data = data[data['Facility Type']==\"Restaurant\"]\n",
    "print(restaurant_data.shape)"
   ]
  },
  {
   "cell_type": "code",
   "execution_count": 10,
   "metadata": {},
   "outputs": [
    {
     "data": {
      "text/html": [
       "<div>\n",
       "<style scoped>\n",
       "    .dataframe tbody tr th:only-of-type {\n",
       "        vertical-align: middle;\n",
       "    }\n",
       "\n",
       "    .dataframe tbody tr th {\n",
       "        vertical-align: top;\n",
       "    }\n",
       "\n",
       "    .dataframe thead th {\n",
       "        text-align: right;\n",
       "    }\n",
       "</style>\n",
       "<table border=\"1\" class=\"dataframe\">\n",
       "  <thead>\n",
       "    <tr style=\"text-align: right;\">\n",
       "      <th></th>\n",
       "      <th>Inspection ID</th>\n",
       "      <th>DBA Name</th>\n",
       "      <th>AKA Name</th>\n",
       "      <th>License #</th>\n",
       "      <th>Facility Type</th>\n",
       "      <th>Risk</th>\n",
       "      <th>Address</th>\n",
       "      <th>City</th>\n",
       "      <th>State</th>\n",
       "      <th>Zip</th>\n",
       "      <th>Inspection Date</th>\n",
       "      <th>Inspection Type</th>\n",
       "      <th>Results</th>\n",
       "      <th>Violations</th>\n",
       "      <th>Latitude</th>\n",
       "      <th>Longitude</th>\n",
       "      <th>Location</th>\n",
       "    </tr>\n",
       "  </thead>\n",
       "  <tbody>\n",
       "    <tr>\n",
       "      <th>1</th>\n",
       "      <td>2240486</td>\n",
       "      <td>TAMALES EMMA LA CHAPARRITA</td>\n",
       "      <td>LA CHAPARRITA</td>\n",
       "      <td>2501598.0</td>\n",
       "      <td>Restaurant</td>\n",
       "      <td>Risk 1 (High)</td>\n",
       "      <td>2500 S WHIPPLE ST</td>\n",
       "      <td>CHICAGO</td>\n",
       "      <td>IL</td>\n",
       "      <td>60623.0</td>\n",
       "      <td>11/20/2018</td>\n",
       "      <td>Complaint</td>\n",
       "      <td>Fail</td>\n",
       "      <td>1. PERSON IN CHARGE PRESENT, DEMONSTRATES KNOW...</td>\n",
       "      <td>41.846288</td>\n",
       "      <td>-87.701562</td>\n",
       "      <td>(41.846287752477586, -87.70156191989919)</td>\n",
       "    </tr>\n",
       "    <tr>\n",
       "      <th>4</th>\n",
       "      <td>2184537</td>\n",
       "      <td>MYSORE WOODLANDS</td>\n",
       "      <td>MYSORE WOODLANDS</td>\n",
       "      <td>2229409.0</td>\n",
       "      <td>Restaurant</td>\n",
       "      <td>Risk 1 (High)</td>\n",
       "      <td>2548-2550 W DEVON AVE</td>\n",
       "      <td>CHICAGO</td>\n",
       "      <td>IL</td>\n",
       "      <td>60659.0</td>\n",
       "      <td>07/12/2018</td>\n",
       "      <td>Canvass</td>\n",
       "      <td>Pass w/ Conditions</td>\n",
       "      <td>3. MANAGEMENT, FOOD EMPLOYEE AND CONDITIONAL E...</td>\n",
       "      <td>41.997765</td>\n",
       "      <td>-87.694284</td>\n",
       "      <td>(41.9977653535896, -87.69428406894727)</td>\n",
       "    </tr>\n",
       "    <tr>\n",
       "      <th>8</th>\n",
       "      <td>2240666</td>\n",
       "      <td>ORANGE GARDEN RESTAURANT LLC</td>\n",
       "      <td>ORANGE GARDEN RESTAURANT LLC</td>\n",
       "      <td>1942679.0</td>\n",
       "      <td>Restaurant</td>\n",
       "      <td>Risk 1 (High)</td>\n",
       "      <td>1942 W IRVING PARK RD</td>\n",
       "      <td>CHICAGO</td>\n",
       "      <td>IL</td>\n",
       "      <td>60613.0</td>\n",
       "      <td>11/27/2018</td>\n",
       "      <td>Canvass</td>\n",
       "      <td>Pass w/ Conditions</td>\n",
       "      <td>3. MANAGEMENT, FOOD EMPLOYEE AND CONDITIONAL E...</td>\n",
       "      <td>41.954276</td>\n",
       "      <td>-87.678033</td>\n",
       "      <td>(41.954276019666246, -87.6780332991192)</td>\n",
       "    </tr>\n",
       "    <tr>\n",
       "      <th>9</th>\n",
       "      <td>2280082</td>\n",
       "      <td>BEERHEAD BAR &amp; EATERY</td>\n",
       "      <td>BEERHEAD BAR &amp; EATERY</td>\n",
       "      <td>2600994.0</td>\n",
       "      <td>Restaurant</td>\n",
       "      <td>Risk 1 (High)</td>\n",
       "      <td>3519 N CLARK ST</td>\n",
       "      <td>CHICAGO</td>\n",
       "      <td>IL</td>\n",
       "      <td>60657.0</td>\n",
       "      <td>03/26/2019</td>\n",
       "      <td>License</td>\n",
       "      <td>Pass</td>\n",
       "      <td>55. PHYSICAL FACILITIES INSTALLED, MAINTAINED ...</td>\n",
       "      <td>41.946281</td>\n",
       "      <td>-87.655603</td>\n",
       "      <td>(41.94628081101039, -87.65560312808297)</td>\n",
       "    </tr>\n",
       "    <tr>\n",
       "      <th>10</th>\n",
       "      <td>2370625</td>\n",
       "      <td>THE CREPE SHOP</td>\n",
       "      <td>THE CREPE SHOP</td>\n",
       "      <td>2699005.0</td>\n",
       "      <td>Restaurant</td>\n",
       "      <td>Risk 1 (High)</td>\n",
       "      <td>2934 N BROADWAY</td>\n",
       "      <td>CHICAGO</td>\n",
       "      <td>IL</td>\n",
       "      <td>60657.0</td>\n",
       "      <td>05/15/2020</td>\n",
       "      <td>Canvass</td>\n",
       "      <td>Pass</td>\n",
       "      <td>37. FOOD PROPERLY LABELED; ORIGINAL CONTAINER ...</td>\n",
       "      <td>41.935930</td>\n",
       "      <td>-87.644407</td>\n",
       "      <td>(41.93592957402078, -87.64440716256712)</td>\n",
       "    </tr>\n",
       "  </tbody>\n",
       "</table>\n",
       "</div>"
      ],
      "text/plain": [
       "    Inspection ID                      DBA Name                      AKA Name  \\\n",
       "1         2240486    TAMALES EMMA LA CHAPARRITA                 LA CHAPARRITA   \n",
       "4         2184537              MYSORE WOODLANDS              MYSORE WOODLANDS   \n",
       "8         2240666  ORANGE GARDEN RESTAURANT LLC  ORANGE GARDEN RESTAURANT LLC   \n",
       "9         2280082         BEERHEAD BAR & EATERY         BEERHEAD BAR & EATERY   \n",
       "10        2370625                THE CREPE SHOP                THE CREPE SHOP   \n",
       "\n",
       "    License # Facility Type           Risk                Address     City  \\\n",
       "1   2501598.0    Restaurant  Risk 1 (High)      2500 S WHIPPLE ST  CHICAGO   \n",
       "4   2229409.0    Restaurant  Risk 1 (High)  2548-2550 W DEVON AVE  CHICAGO   \n",
       "8   1942679.0    Restaurant  Risk 1 (High)  1942 W IRVING PARK RD  CHICAGO   \n",
       "9   2600994.0    Restaurant  Risk 1 (High)        3519 N CLARK ST  CHICAGO   \n",
       "10  2699005.0    Restaurant  Risk 1 (High)        2934 N BROADWAY  CHICAGO   \n",
       "\n",
       "   State      Zip Inspection Date Inspection Type             Results  \\\n",
       "1     IL  60623.0      11/20/2018       Complaint                Fail   \n",
       "4     IL  60659.0      07/12/2018         Canvass  Pass w/ Conditions   \n",
       "8     IL  60613.0      11/27/2018         Canvass  Pass w/ Conditions   \n",
       "9     IL  60657.0      03/26/2019         License                Pass   \n",
       "10    IL  60657.0      05/15/2020         Canvass                Pass   \n",
       "\n",
       "                                           Violations   Latitude  Longitude  \\\n",
       "1   1. PERSON IN CHARGE PRESENT, DEMONSTRATES KNOW...  41.846288 -87.701562   \n",
       "4   3. MANAGEMENT, FOOD EMPLOYEE AND CONDITIONAL E...  41.997765 -87.694284   \n",
       "8   3. MANAGEMENT, FOOD EMPLOYEE AND CONDITIONAL E...  41.954276 -87.678033   \n",
       "9   55. PHYSICAL FACILITIES INSTALLED, MAINTAINED ...  41.946281 -87.655603   \n",
       "10  37. FOOD PROPERLY LABELED; ORIGINAL CONTAINER ...  41.935930 -87.644407   \n",
       "\n",
       "                                    Location  \n",
       "1   (41.846287752477586, -87.70156191989919)  \n",
       "4     (41.9977653535896, -87.69428406894727)  \n",
       "8    (41.954276019666246, -87.6780332991192)  \n",
       "9    (41.94628081101039, -87.65560312808297)  \n",
       "10   (41.93592957402078, -87.64440716256712)  "
      ]
     },
     "execution_count": 10,
     "metadata": {},
     "output_type": "execute_result"
    }
   ],
   "source": [
    "restaurant_data.head()"
   ]
  },
  {
   "cell_type": "code",
   "execution_count": 12,
   "metadata": {},
   "outputs": [
    {
     "data": {
      "text/html": [
       "<div>\n",
       "<style scoped>\n",
       "    .dataframe tbody tr th:only-of-type {\n",
       "        vertical-align: middle;\n",
       "    }\n",
       "\n",
       "    .dataframe tbody tr th {\n",
       "        vertical-align: top;\n",
       "    }\n",
       "\n",
       "    .dataframe thead th {\n",
       "        text-align: right;\n",
       "    }\n",
       "</style>\n",
       "<table border=\"1\" class=\"dataframe\">\n",
       "  <thead>\n",
       "    <tr style=\"text-align: right;\">\n",
       "      <th></th>\n",
       "      <th>Inspection ID</th>\n",
       "      <th>DBA Name</th>\n",
       "      <th>AKA Name</th>\n",
       "      <th>License #</th>\n",
       "      <th>Facility Type</th>\n",
       "      <th>Risk</th>\n",
       "      <th>Address</th>\n",
       "      <th>City</th>\n",
       "      <th>State</th>\n",
       "      <th>Zip</th>\n",
       "      <th>Inspection Date</th>\n",
       "      <th>Inspection Type</th>\n",
       "      <th>Results</th>\n",
       "      <th>Violations</th>\n",
       "      <th>Latitude</th>\n",
       "      <th>Longitude</th>\n",
       "      <th>Location</th>\n",
       "    </tr>\n",
       "  </thead>\n",
       "  <tbody>\n",
       "    <tr>\n",
       "      <th>1</th>\n",
       "      <td>2240486</td>\n",
       "      <td>TAMALES EMMA LA CHAPARRITA</td>\n",
       "      <td>LA CHAPARRITA</td>\n",
       "      <td>2501598.0</td>\n",
       "      <td>Restaurant</td>\n",
       "      <td>Risk 1 (High)</td>\n",
       "      <td>2500 S WHIPPLE ST</td>\n",
       "      <td>CHICAGO</td>\n",
       "      <td>IL</td>\n",
       "      <td>60623.0</td>\n",
       "      <td>11/20/2018</td>\n",
       "      <td>Complaint</td>\n",
       "      <td>Fail</td>\n",
       "      <td>1. PERSON IN CHARGE PRESENT, DEMONSTRATES KNOW...</td>\n",
       "      <td>41.846288</td>\n",
       "      <td>-87.701562</td>\n",
       "      <td>(41.846287752477586, -87.70156191989919)</td>\n",
       "    </tr>\n",
       "    <tr>\n",
       "      <th>4</th>\n",
       "      <td>2184537</td>\n",
       "      <td>MYSORE WOODLANDS</td>\n",
       "      <td>MYSORE WOODLANDS</td>\n",
       "      <td>2229409.0</td>\n",
       "      <td>Restaurant</td>\n",
       "      <td>Risk 1 (High)</td>\n",
       "      <td>2548-2550 W DEVON AVE</td>\n",
       "      <td>CHICAGO</td>\n",
       "      <td>IL</td>\n",
       "      <td>60659.0</td>\n",
       "      <td>07/12/2018</td>\n",
       "      <td>Canvass</td>\n",
       "      <td>Pass w/ Conditions</td>\n",
       "      <td>3. MANAGEMENT, FOOD EMPLOYEE AND CONDITIONAL E...</td>\n",
       "      <td>41.997765</td>\n",
       "      <td>-87.694284</td>\n",
       "      <td>(41.9977653535896, -87.69428406894727)</td>\n",
       "    </tr>\n",
       "    <tr>\n",
       "      <th>8</th>\n",
       "      <td>2240666</td>\n",
       "      <td>ORANGE GARDEN RESTAURANT LLC</td>\n",
       "      <td>ORANGE GARDEN RESTAURANT LLC</td>\n",
       "      <td>1942679.0</td>\n",
       "      <td>Restaurant</td>\n",
       "      <td>Risk 1 (High)</td>\n",
       "      <td>1942 W IRVING PARK RD</td>\n",
       "      <td>CHICAGO</td>\n",
       "      <td>IL</td>\n",
       "      <td>60613.0</td>\n",
       "      <td>11/27/2018</td>\n",
       "      <td>Canvass</td>\n",
       "      <td>Pass w/ Conditions</td>\n",
       "      <td>3. MANAGEMENT, FOOD EMPLOYEE AND CONDITIONAL E...</td>\n",
       "      <td>41.954276</td>\n",
       "      <td>-87.678033</td>\n",
       "      <td>(41.954276019666246, -87.6780332991192)</td>\n",
       "    </tr>\n",
       "    <tr>\n",
       "      <th>9</th>\n",
       "      <td>2280082</td>\n",
       "      <td>BEERHEAD BAR &amp; EATERY</td>\n",
       "      <td>BEERHEAD BAR &amp; EATERY</td>\n",
       "      <td>2600994.0</td>\n",
       "      <td>Restaurant</td>\n",
       "      <td>Risk 1 (High)</td>\n",
       "      <td>3519 N CLARK ST</td>\n",
       "      <td>CHICAGO</td>\n",
       "      <td>IL</td>\n",
       "      <td>60657.0</td>\n",
       "      <td>03/26/2019</td>\n",
       "      <td>License</td>\n",
       "      <td>Pass</td>\n",
       "      <td>55. PHYSICAL FACILITIES INSTALLED, MAINTAINED ...</td>\n",
       "      <td>41.946281</td>\n",
       "      <td>-87.655603</td>\n",
       "      <td>(41.94628081101039, -87.65560312808297)</td>\n",
       "    </tr>\n",
       "    <tr>\n",
       "      <th>10</th>\n",
       "      <td>2370625</td>\n",
       "      <td>THE CREPE SHOP</td>\n",
       "      <td>THE CREPE SHOP</td>\n",
       "      <td>2699005.0</td>\n",
       "      <td>Restaurant</td>\n",
       "      <td>Risk 1 (High)</td>\n",
       "      <td>2934 N BROADWAY</td>\n",
       "      <td>CHICAGO</td>\n",
       "      <td>IL</td>\n",
       "      <td>60657.0</td>\n",
       "      <td>05/15/2020</td>\n",
       "      <td>Canvass</td>\n",
       "      <td>Pass</td>\n",
       "      <td>37. FOOD PROPERLY LABELED; ORIGINAL CONTAINER ...</td>\n",
       "      <td>41.935930</td>\n",
       "      <td>-87.644407</td>\n",
       "      <td>(41.93592957402078, -87.64440716256712)</td>\n",
       "    </tr>\n",
       "  </tbody>\n",
       "</table>\n",
       "</div>"
      ],
      "text/plain": [
       "    Inspection ID                      DBA Name                      AKA Name  \\\n",
       "1         2240486    TAMALES EMMA LA CHAPARRITA                 LA CHAPARRITA   \n",
       "4         2184537              MYSORE WOODLANDS              MYSORE WOODLANDS   \n",
       "8         2240666  ORANGE GARDEN RESTAURANT LLC  ORANGE GARDEN RESTAURANT LLC   \n",
       "9         2280082         BEERHEAD BAR & EATERY         BEERHEAD BAR & EATERY   \n",
       "10        2370625                THE CREPE SHOP                THE CREPE SHOP   \n",
       "\n",
       "    License # Facility Type           Risk                Address     City  \\\n",
       "1   2501598.0    Restaurant  Risk 1 (High)      2500 S WHIPPLE ST  CHICAGO   \n",
       "4   2229409.0    Restaurant  Risk 1 (High)  2548-2550 W DEVON AVE  CHICAGO   \n",
       "8   1942679.0    Restaurant  Risk 1 (High)  1942 W IRVING PARK RD  CHICAGO   \n",
       "9   2600994.0    Restaurant  Risk 1 (High)        3519 N CLARK ST  CHICAGO   \n",
       "10  2699005.0    Restaurant  Risk 1 (High)        2934 N BROADWAY  CHICAGO   \n",
       "\n",
       "   State      Zip Inspection Date Inspection Type             Results  \\\n",
       "1     IL  60623.0      11/20/2018       Complaint                Fail   \n",
       "4     IL  60659.0      07/12/2018         Canvass  Pass w/ Conditions   \n",
       "8     IL  60613.0      11/27/2018         Canvass  Pass w/ Conditions   \n",
       "9     IL  60657.0      03/26/2019         License                Pass   \n",
       "10    IL  60657.0      05/15/2020         Canvass                Pass   \n",
       "\n",
       "                                           Violations   Latitude  Longitude  \\\n",
       "1   1. PERSON IN CHARGE PRESENT, DEMONSTRATES KNOW...  41.846288 -87.701562   \n",
       "4   3. MANAGEMENT, FOOD EMPLOYEE AND CONDITIONAL E...  41.997765 -87.694284   \n",
       "8   3. MANAGEMENT, FOOD EMPLOYEE AND CONDITIONAL E...  41.954276 -87.678033   \n",
       "9   55. PHYSICAL FACILITIES INSTALLED, MAINTAINED ...  41.946281 -87.655603   \n",
       "10  37. FOOD PROPERLY LABELED; ORIGINAL CONTAINER ...  41.935930 -87.644407   \n",
       "\n",
       "                                    Location  \n",
       "1   (41.846287752477586, -87.70156191989919)  \n",
       "4     (41.9977653535896, -87.69428406894727)  \n",
       "8    (41.954276019666246, -87.6780332991192)  \n",
       "9    (41.94628081101039, -87.65560312808297)  \n",
       "10   (41.93592957402078, -87.64440716256712)  "
      ]
     },
     "execution_count": 12,
     "metadata": {},
     "output_type": "execute_result"
    }
   ],
   "source": [
    "# we want to keep just the restaurants where we know the location, so we drop the rows where location is NaN:\n",
    "restaurants_df = restaurant_data[restaurant_data['Location'].notna()]\n",
    "restaurants_df.head()"
   ]
  },
  {
   "cell_type": "code",
   "execution_count": 13,
   "metadata": {},
   "outputs": [
    {
     "data": {
      "text/plain": [
       "60"
      ]
     },
     "execution_count": 13,
     "metadata": {},
     "output_type": "execute_result"
    }
   ],
   "source": [
    "#number of unique zip codes in the dataset:\n",
    "len(restaurants_df['Zip'].unique().tolist())"
   ]
  },
  {
   "cell_type": "code",
   "execution_count": 14,
   "metadata": {},
   "outputs": [
    {
     "data": {
      "text/plain": [
       "AKA Name            2479\n",
       "Risk                  73\n",
       "City                 150\n",
       "State                 48\n",
       "Zip                   50\n",
       "Inspection Type        1\n",
       "Violations         55325\n",
       "dtype: int64"
      ]
     },
     "execution_count": 14,
     "metadata": {},
     "output_type": "execute_result"
    }
   ],
   "source": [
    "#make sure there are no more null values in the \"location\" column\n",
    "null_columns=restaurants_df.columns[restaurants_df.isnull().any()]\n",
    "data[null_columns].isnull().sum()"
   ]
  },
  {
   "cell_type": "code",
   "execution_count": null,
   "metadata": {},
   "outputs": [],
   "source": []
  },
  {
   "cell_type": "code",
   "execution_count": 15,
   "metadata": {},
   "outputs": [
    {
     "data": {
      "text/plain": [
       "9523"
      ]
     },
     "execution_count": 15,
     "metadata": {},
     "output_type": "execute_result"
    }
   ],
   "source": [
    "#how many unique restaurants we have in the data based on location:\n",
    "len(restaurants_df['Location'].unique().tolist())"
   ]
  },
  {
   "cell_type": "code",
   "execution_count": 16,
   "metadata": {},
   "outputs": [],
   "source": [
    "# eliminate restaurants that are \"out of business\" or \"business not located\":\n",
    "clean_data=restaurants_df[(restaurants_df['Results'] != 'Out of Business') & (restaurants_df['Results'] != 'Business Not Located')]"
   ]
  },
  {
   "cell_type": "code",
   "execution_count": null,
   "metadata": {},
   "outputs": [],
   "source": []
  },
  {
   "cell_type": "code",
   "execution_count": 17,
   "metadata": {},
   "outputs": [
    {
     "data": {
      "text/plain": [
       "9380"
      ]
     },
     "execution_count": 17,
     "metadata": {},
     "output_type": "execute_result"
    }
   ],
   "source": [
    "#find out how many unique restaurant locations we have in our dataset after the drop:\n",
    "len(clean_data['Location'].unique().tolist())"
   ]
  },
  {
   "cell_type": "code",
   "execution_count": 18,
   "metadata": {},
   "outputs": [
    {
     "data": {
      "image/png": "[encoded data removed]",
      "text/plain": [
       "<Figure size 864x504 with 1 Axes>"
      ]
     },
     "metadata": {},
     "output_type": "display_data"
    },
    {
     "data": {
      "text/plain": [
       "<Figure size 432x288 with 0 Axes>"
      ]
     },
     "metadata": {},
     "output_type": "display_data"
    }
   ],
   "source": [
    "# Generate a bar plot showing the total number of restaurants for each Risk category \n",
    "\n",
    "#First, we use groupby \"risk category\" and count location to determine the data points\n",
    "risk_data_points = clean_data.groupby([\"Risk\"]).count()[\"Location\"]\n",
    "risk_data_points\n",
    "\n",
    "#Second, we plot the points\n",
    "risk_data_points.plot(kind=\"bar\", color=\"mediumvioletred\", figsize=(12,7))\n",
    "\n",
    "#Last, we set chart title and axis labels\n",
    "plt.title(\"Total number of restaurants per Risk category\")\n",
    "plt.xlabel(\"Risk category\")\n",
    "plt.ylabel(\"Number of restaurants\")\n",
    "\n",
    "#show chart and set layout\n",
    "plt.show()\n",
    "plt.tight_layout()"
   ]
  },
  {
   "cell_type": "code",
   "execution_count": 18,
   "metadata": {},
   "outputs": [
    {
     "data": {
      "text/plain": [
       "Risk 1 (High)      103971\n",
       "Risk 2 (Medium)     23467\n",
       "Risk 3 (Low)         1350\n",
       "All                     8\n",
       "Name: Risk, dtype: int64"
      ]
     },
     "execution_count": 18,
     "metadata": {},
     "output_type": "execute_result"
    }
   ],
   "source": [
    "#We can see that most restaurants are at high risk. We can also confirm this from the data:\n",
    "clean_data['Risk'].value_counts()"
   ]
  },
  {
   "cell_type": "code",
   "execution_count": 19,
   "metadata": {},
   "outputs": [
    {
     "data": {
      "image/png": "[encoded data removed]",
      "text/plain": [
       "<Figure size 864x504 with 1 Axes>"
      ]
     },
     "metadata": {},
     "output_type": "display_data"
    },
    {
     "data": {
      "text/plain": [
       "<Figure size 432x288 with 0 Axes>"
      ]
     },
     "metadata": {},
     "output_type": "display_data"
    }
   ],
   "source": [
    "#Next, we look at the results of the inspections\n",
    "\n",
    "#First, we use groupby \"Results\" and count location to determine the data points\n",
    "risk_data_points = clean_data.groupby([\"Results\"]).count()[\"Location\"]\n",
    "risk_data_points\n",
    "\n",
    "#Second, we plot the points\n",
    "risk_data_points.plot(kind=\"bar\", color=\"dodgerblue\", figsize=(12,7))\n",
    "\n",
    "#Last, we set chart title and axis labels\n",
    "plt.title(\"Results of the inspection\")\n",
    "plt.xlabel(\"Results\")\n",
    "plt.ylabel(\"Number of restaurants\")\n",
    "\n",
    "#show chart and set layout\n",
    "plt.show()\n",
    "plt.tight_layout()"
   ]
  },
  {
   "cell_type": "code",
   "execution_count": 20,
   "metadata": {},
   "outputs": [
    {
     "data": {
      "text/plain": [
       "Pass                  72792\n",
       "Fail                  25735\n",
       "Pass w/ Conditions    23220\n",
       "No Entry               5678\n",
       "Not Ready              1374\n",
       "Name: Results, dtype: int64"
      ]
     },
     "execution_count": 20,
     "metadata": {},
     "output_type": "execute_result"
    }
   ],
   "source": [
    "#confirm from the data:\n",
    "clean_data['Results'].value_counts()"
   ]
  },
  {
   "cell_type": "code",
   "execution_count": 21,
   "metadata": {},
   "outputs": [
    {
     "data": {
      "text/html": [
       "<div>\n",
       "<style scoped>\n",
       "    .dataframe tbody tr th:only-of-type {\n",
       "        vertical-align: middle;\n",
       "    }\n",
       "\n",
       "    .dataframe tbody tr th {\n",
       "        vertical-align: top;\n",
       "    }\n",
       "\n",
       "    .dataframe thead th {\n",
       "        text-align: right;\n",
       "    }\n",
       "</style>\n",
       "<table border=\"1\" class=\"dataframe\">\n",
       "  <thead>\n",
       "    <tr style=\"text-align: right;\">\n",
       "      <th></th>\n",
       "      <th>Inspection ID</th>\n",
       "      <th>DBA Name</th>\n",
       "      <th>AKA Name</th>\n",
       "      <th>License #</th>\n",
       "      <th>Facility Type</th>\n",
       "      <th>Risk</th>\n",
       "      <th>Address</th>\n",
       "      <th>City</th>\n",
       "      <th>State</th>\n",
       "      <th>Zip</th>\n",
       "      <th>Inspection Date</th>\n",
       "      <th>Inspection Type</th>\n",
       "      <th>Results</th>\n",
       "      <th>Violations</th>\n",
       "      <th>Latitude</th>\n",
       "      <th>Longitude</th>\n",
       "      <th>Location</th>\n",
       "    </tr>\n",
       "  </thead>\n",
       "  <tbody>\n",
       "    <tr>\n",
       "      <th>1</th>\n",
       "      <td>2240486</td>\n",
       "      <td>TAMALES EMMA LA CHAPARRITA</td>\n",
       "      <td>LA CHAPARRITA</td>\n",
       "      <td>2501598.0</td>\n",
       "      <td>Restaurant</td>\n",
       "      <td>Risk 1 (High)</td>\n",
       "      <td>2500 S WHIPPLE ST</td>\n",
       "      <td>CHICAGO</td>\n",
       "      <td>IL</td>\n",
       "      <td>60623.0</td>\n",
       "      <td>11/20/2018</td>\n",
       "      <td>Complaint</td>\n",
       "      <td>Fail</td>\n",
       "      <td>1. PERSON IN CHARGE PRESENT, DEMONSTRATES KNOW...</td>\n",
       "      <td>41.846288</td>\n",
       "      <td>-87.701562</td>\n",
       "      <td>(41.846287752477586, -87.70156191989919)</td>\n",
       "    </tr>\n",
       "    <tr>\n",
       "      <th>4</th>\n",
       "      <td>2184537</td>\n",
       "      <td>MYSORE WOODLANDS</td>\n",
       "      <td>MYSORE WOODLANDS</td>\n",
       "      <td>2229409.0</td>\n",
       "      <td>Restaurant</td>\n",
       "      <td>Risk 1 (High)</td>\n",
       "      <td>2548-2550 W DEVON AVE</td>\n",
       "      <td>CHICAGO</td>\n",
       "      <td>IL</td>\n",
       "      <td>60659.0</td>\n",
       "      <td>07/12/2018</td>\n",
       "      <td>Canvass</td>\n",
       "      <td>Pass w/ Conditions</td>\n",
       "      <td>3. MANAGEMENT, FOOD EMPLOYEE AND CONDITIONAL E...</td>\n",
       "      <td>41.997765</td>\n",
       "      <td>-87.694284</td>\n",
       "      <td>(41.9977653535896, -87.69428406894727)</td>\n",
       "    </tr>\n",
       "    <tr>\n",
       "      <th>8</th>\n",
       "      <td>2240666</td>\n",
       "      <td>ORANGE GARDEN RESTAURANT LLC</td>\n",
       "      <td>ORANGE GARDEN RESTAURANT LLC</td>\n",
       "      <td>1942679.0</td>\n",
       "      <td>Restaurant</td>\n",
       "      <td>Risk 1 (High)</td>\n",
       "      <td>1942 W IRVING PARK RD</td>\n",
       "      <td>CHICAGO</td>\n",
       "      <td>IL</td>\n",
       "      <td>60613.0</td>\n",
       "      <td>11/27/2018</td>\n",
       "      <td>Canvass</td>\n",
       "      <td>Pass w/ Conditions</td>\n",
       "      <td>3. MANAGEMENT, FOOD EMPLOYEE AND CONDITIONAL E...</td>\n",
       "      <td>41.954276</td>\n",
       "      <td>-87.678033</td>\n",
       "      <td>(41.954276019666246, -87.6780332991192)</td>\n",
       "    </tr>\n",
       "    <tr>\n",
       "      <th>9</th>\n",
       "      <td>2280082</td>\n",
       "      <td>BEERHEAD BAR &amp; EATERY</td>\n",
       "      <td>BEERHEAD BAR &amp; EATERY</td>\n",
       "      <td>2600994.0</td>\n",
       "      <td>Restaurant</td>\n",
       "      <td>Risk 1 (High)</td>\n",
       "      <td>3519 N CLARK ST</td>\n",
       "      <td>CHICAGO</td>\n",
       "      <td>IL</td>\n",
       "      <td>60657.0</td>\n",
       "      <td>03/26/2019</td>\n",
       "      <td>License</td>\n",
       "      <td>Pass</td>\n",
       "      <td>55. PHYSICAL FACILITIES INSTALLED, MAINTAINED ...</td>\n",
       "      <td>41.946281</td>\n",
       "      <td>-87.655603</td>\n",
       "      <td>(41.94628081101039, -87.65560312808297)</td>\n",
       "    </tr>\n",
       "    <tr>\n",
       "      <th>10</th>\n",
       "      <td>2370625</td>\n",
       "      <td>THE CREPE SHOP</td>\n",
       "      <td>THE CREPE SHOP</td>\n",
       "      <td>2699005.0</td>\n",
       "      <td>Restaurant</td>\n",
       "      <td>Risk 1 (High)</td>\n",
       "      <td>2934 N BROADWAY</td>\n",
       "      <td>CHICAGO</td>\n",
       "      <td>IL</td>\n",
       "      <td>60657.0</td>\n",
       "      <td>05/15/2020</td>\n",
       "      <td>Canvass</td>\n",
       "      <td>Pass</td>\n",
       "      <td>37. FOOD PROPERLY LABELED; ORIGINAL CONTAINER ...</td>\n",
       "      <td>41.935930</td>\n",
       "      <td>-87.644407</td>\n",
       "      <td>(41.93592957402078, -87.64440716256712)</td>\n",
       "    </tr>\n",
       "  </tbody>\n",
       "</table>\n",
       "</div>"
      ],
      "text/plain": [
       "    Inspection ID                      DBA Name                      AKA Name  \\\n",
       "1         2240486    TAMALES EMMA LA CHAPARRITA                 LA CHAPARRITA   \n",
       "4         2184537              MYSORE WOODLANDS              MYSORE WOODLANDS   \n",
       "8         2240666  ORANGE GARDEN RESTAURANT LLC  ORANGE GARDEN RESTAURANT LLC   \n",
       "9         2280082         BEERHEAD BAR & EATERY         BEERHEAD BAR & EATERY   \n",
       "10        2370625                THE CREPE SHOP                THE CREPE SHOP   \n",
       "\n",
       "    License # Facility Type           Risk                Address     City  \\\n",
       "1   2501598.0    Restaurant  Risk 1 (High)      2500 S WHIPPLE ST  CHICAGO   \n",
       "4   2229409.0    Restaurant  Risk 1 (High)  2548-2550 W DEVON AVE  CHICAGO   \n",
       "8   1942679.0    Restaurant  Risk 1 (High)  1942 W IRVING PARK RD  CHICAGO   \n",
       "9   2600994.0    Restaurant  Risk 1 (High)        3519 N CLARK ST  CHICAGO   \n",
       "10  2699005.0    Restaurant  Risk 1 (High)        2934 N BROADWAY  CHICAGO   \n",
       "\n",
       "   State      Zip Inspection Date Inspection Type             Results  \\\n",
       "1     IL  60623.0      11/20/2018       Complaint                Fail   \n",
       "4     IL  60659.0      07/12/2018         Canvass  Pass w/ Conditions   \n",
       "8     IL  60613.0      11/27/2018         Canvass  Pass w/ Conditions   \n",
       "9     IL  60657.0      03/26/2019         License                Pass   \n",
       "10    IL  60657.0      05/15/2020         Canvass                Pass   \n",
       "\n",
       "                                           Violations   Latitude  Longitude  \\\n",
       "1   1. PERSON IN CHARGE PRESENT, DEMONSTRATES KNOW...  41.846288 -87.701562   \n",
       "4   3. MANAGEMENT, FOOD EMPLOYEE AND CONDITIONAL E...  41.997765 -87.694284   \n",
       "8   3. MANAGEMENT, FOOD EMPLOYEE AND CONDITIONAL E...  41.954276 -87.678033   \n",
       "9   55. PHYSICAL FACILITIES INSTALLED, MAINTAINED ...  41.946281 -87.655603   \n",
       "10  37. FOOD PROPERLY LABELED; ORIGINAL CONTAINER ...  41.935930 -87.644407   \n",
       "\n",
       "                                    Location  \n",
       "1   (41.846287752477586, -87.70156191989919)  \n",
       "4     (41.9977653535896, -87.69428406894727)  \n",
       "8    (41.954276019666246, -87.6780332991192)  \n",
       "9    (41.94628081101039, -87.65560312808297)  \n",
       "10   (41.93592957402078, -87.64440716256712)  "
      ]
     },
     "execution_count": 21,
     "metadata": {},
     "output_type": "execute_result"
    }
   ],
   "source": [
    "clean_data.head()"
   ]
  },
  {
   "cell_type": "code",
   "execution_count": 22,
   "metadata": {},
   "outputs": [
    {
     "data": {
      "text/plain": [
       "array(['Risk 1 (High)', 'Risk 2 (Medium)', 'Risk 3 (Low)', nan],\n",
       "      dtype=object)"
      ]
     },
     "execution_count": 22,
     "metadata": {},
     "output_type": "execute_result"
    }
   ],
   "source": [
    "#Drop the rows where Risk= All or where we have nan and only keep high, medium or low risk\n",
    "final_dataset=clean_data[clean_data.Risk!='All']\n",
    "final_dataset['Risk'].unique()"
   ]
  },
  {
   "cell_type": "code",
   "execution_count": 24,
   "metadata": {},
   "outputs": [
    {
     "data": {
      "text/plain": [
       "array(['Risk 1 (High)', 'Risk 2 (Medium)', 'Risk 3 (Low)'], dtype=object)"
      ]
     },
     "execution_count": 24,
     "metadata": {},
     "output_type": "execute_result"
    }
   ],
   "source": [
    "final_risk=final_dataset[final_dataset.Risk.notnull()]\n",
    "final_risk['Risk'].unique()"
   ]
  },
  {
   "cell_type": "code",
   "execution_count": 25,
   "metadata": {},
   "outputs": [],
   "source": [
    "X = pd.get_dummies(data.Risk)"
   ]
  },
  {
   "cell_type": "code",
   "execution_count": 26,
   "metadata": {},
   "outputs": [],
   "source": [
    "X = X.drop(columns=['All'])"
   ]
  },
  {
   "cell_type": "code",
   "execution_count": 27,
   "metadata": {},
   "outputs": [],
   "source": [
    "Y = final_dataset['Results']"
   ]
  },
  {
   "cell_type": "code",
   "execution_count": 28,
   "metadata": {},
   "outputs": [
    {
     "data": {
      "text/plain": [
       "1                       Fail\n",
       "4         Pass w/ Conditions\n",
       "8         Pass w/ Conditions\n",
       "9                       Pass\n",
       "10                      Pass\n",
       "                 ...        \n",
       "208246                  Pass\n",
       "208250                  Pass\n",
       "208251    Pass w/ Conditions\n",
       "208252                  Pass\n",
       "208253                  Fail\n",
       "Name: Results, Length: 128791, dtype: object"
      ]
     },
     "execution_count": 28,
     "metadata": {},
     "output_type": "execute_result"
    }
   ],
   "source": [
    "Y"
   ]
  },
  {
   "cell_type": "code",
   "execution_count": 28,
   "metadata": {},
   "outputs": [],
   "source": [
    "#Logistic Regression"
   ]
  },
  {
   "cell_type": "code",
   "execution_count": 29,
   "metadata": {},
   "outputs": [],
   "source": [
    "# Next, we want to see if there is a correlation between Risk Category and Inspection Results.\n",
    "# How good is risk category at predicting if a restaurant is going to pass/fail the inspections?"
   ]
  },
  {
   "cell_type": "code",
   "execution_count": null,
   "metadata": {},
   "outputs": [],
   "source": []
  },
  {
   "cell_type": "code",
   "execution_count": null,
   "metadata": {},
   "outputs": [],
   "source": []
  },
  {
   "cell_type": "code",
   "execution_count": 30,
   "metadata": {},
   "outputs": [
    {
     "name": "stdout",
     "output_type": "stream",
     "text": [
      "['Inspection ID', 'DBA Name', 'AKA Name', 'License #', 'Facility Type', 'Risk', 'Address', 'City', 'State', 'Zip', 'Inspection Date', 'Inspection Type', 'Results', 'Violations', 'Latitude', 'Longitude', 'Location']\n"
     ]
    }
   ],
   "source": [
    "print(list(final_risk.columns))"
   ]
  },
  {
   "cell_type": "code",
   "execution_count": 31,
   "metadata": {
    "tags": []
   },
   "outputs": [
    {
     "name": "stdout",
     "output_type": "stream",
     "text": [
      "{'Results': {'Pass': 1, 'Pass w/ Conditions': 1, 'Fail': 0, 'Not Ready': 0, 'No Entry': 0}}\n"
     ]
    }
   ],
   "source": [
    "#We know that logistic regression requires our response variable to be binary. For this analysis, we will consider \"Pass\" and Pass w/Conditions\" as Pass(1)\n",
    "#and \"Fail\", \"Not Ready\" and \"No Entry\" as Fail(0)\n",
    "\n",
    "results_numerical = {\"Results\" :{\"Pass\": 1, \"Pass w/ Conditions\": 1, \"Fail\":0, \"Not Ready\":0, \"No Entry\":0}}\n",
    "print(results_numerical)"
   ]
  },
  {
   "cell_type": "code",
   "execution_count": 32,
   "metadata": {},
   "outputs": [
    {
     "data": {
      "text/html": [
       "<div>\n",
       "<style scoped>\n",
       "    .dataframe tbody tr th:only-of-type {\n",
       "        vertical-align: middle;\n",
       "    }\n",
       "\n",
       "    .dataframe tbody tr th {\n",
       "        vertical-align: top;\n",
       "    }\n",
       "\n",
       "    .dataframe thead th {\n",
       "        text-align: right;\n",
       "    }\n",
       "</style>\n",
       "<table border=\"1\" class=\"dataframe\">\n",
       "  <thead>\n",
       "    <tr style=\"text-align: right;\">\n",
       "      <th></th>\n",
       "      <th>Inspection ID</th>\n",
       "      <th>DBA Name</th>\n",
       "      <th>AKA Name</th>\n",
       "      <th>License #</th>\n",
       "      <th>Facility Type</th>\n",
       "      <th>Risk</th>\n",
       "      <th>Address</th>\n",
       "      <th>City</th>\n",
       "      <th>State</th>\n",
       "      <th>Zip</th>\n",
       "      <th>Inspection Date</th>\n",
       "      <th>Inspection Type</th>\n",
       "      <th>Results</th>\n",
       "      <th>Violations</th>\n",
       "      <th>Latitude</th>\n",
       "      <th>Longitude</th>\n",
       "      <th>Location</th>\n",
       "    </tr>\n",
       "  </thead>\n",
       "  <tbody>\n",
       "    <tr>\n",
       "      <th>1</th>\n",
       "      <td>2240486</td>\n",
       "      <td>TAMALES EMMA LA CHAPARRITA</td>\n",
       "      <td>LA CHAPARRITA</td>\n",
       "      <td>2501598.0</td>\n",
       "      <td>Restaurant</td>\n",
       "      <td>Risk 1 (High)</td>\n",
       "      <td>2500 S WHIPPLE ST</td>\n",
       "      <td>CHICAGO</td>\n",
       "      <td>IL</td>\n",
       "      <td>60623.0</td>\n",
       "      <td>11/20/2018</td>\n",
       "      <td>Complaint</td>\n",
       "      <td>0</td>\n",
       "      <td>1. PERSON IN CHARGE PRESENT, DEMONSTRATES KNOW...</td>\n",
       "      <td>41.846288</td>\n",
       "      <td>-87.701562</td>\n",
       "      <td>(41.846287752477586, -87.70156191989919)</td>\n",
       "    </tr>\n",
       "    <tr>\n",
       "      <th>4</th>\n",
       "      <td>2184537</td>\n",
       "      <td>MYSORE WOODLANDS</td>\n",
       "      <td>MYSORE WOODLANDS</td>\n",
       "      <td>2229409.0</td>\n",
       "      <td>Restaurant</td>\n",
       "      <td>Risk 1 (High)</td>\n",
       "      <td>2548-2550 W DEVON AVE</td>\n",
       "      <td>CHICAGO</td>\n",
       "      <td>IL</td>\n",
       "      <td>60659.0</td>\n",
       "      <td>07/12/2018</td>\n",
       "      <td>Canvass</td>\n",
       "      <td>1</td>\n",
       "      <td>3. MANAGEMENT, FOOD EMPLOYEE AND CONDITIONAL E...</td>\n",
       "      <td>41.997765</td>\n",
       "      <td>-87.694284</td>\n",
       "      <td>(41.9977653535896, -87.69428406894727)</td>\n",
       "    </tr>\n",
       "    <tr>\n",
       "      <th>8</th>\n",
       "      <td>2240666</td>\n",
       "      <td>ORANGE GARDEN RESTAURANT LLC</td>\n",
       "      <td>ORANGE GARDEN RESTAURANT LLC</td>\n",
       "      <td>1942679.0</td>\n",
       "      <td>Restaurant</td>\n",
       "      <td>Risk 1 (High)</td>\n",
       "      <td>1942 W IRVING PARK RD</td>\n",
       "      <td>CHICAGO</td>\n",
       "      <td>IL</td>\n",
       "      <td>60613.0</td>\n",
       "      <td>11/27/2018</td>\n",
       "      <td>Canvass</td>\n",
       "      <td>1</td>\n",
       "      <td>3. MANAGEMENT, FOOD EMPLOYEE AND CONDITIONAL E...</td>\n",
       "      <td>41.954276</td>\n",
       "      <td>-87.678033</td>\n",
       "      <td>(41.954276019666246, -87.6780332991192)</td>\n",
       "    </tr>\n",
       "    <tr>\n",
       "      <th>9</th>\n",
       "      <td>2280082</td>\n",
       "      <td>BEERHEAD BAR &amp; EATERY</td>\n",
       "      <td>BEERHEAD BAR &amp; EATERY</td>\n",
       "      <td>2600994.0</td>\n",
       "      <td>Restaurant</td>\n",
       "      <td>Risk 1 (High)</td>\n",
       "      <td>3519 N CLARK ST</td>\n",
       "      <td>CHICAGO</td>\n",
       "      <td>IL</td>\n",
       "      <td>60657.0</td>\n",
       "      <td>03/26/2019</td>\n",
       "      <td>License</td>\n",
       "      <td>1</td>\n",
       "      <td>55. PHYSICAL FACILITIES INSTALLED, MAINTAINED ...</td>\n",
       "      <td>41.946281</td>\n",
       "      <td>-87.655603</td>\n",
       "      <td>(41.94628081101039, -87.65560312808297)</td>\n",
       "    </tr>\n",
       "    <tr>\n",
       "      <th>10</th>\n",
       "      <td>2370625</td>\n",
       "      <td>THE CREPE SHOP</td>\n",
       "      <td>THE CREPE SHOP</td>\n",
       "      <td>2699005.0</td>\n",
       "      <td>Restaurant</td>\n",
       "      <td>Risk 1 (High)</td>\n",
       "      <td>2934 N BROADWAY</td>\n",
       "      <td>CHICAGO</td>\n",
       "      <td>IL</td>\n",
       "      <td>60657.0</td>\n",
       "      <td>05/15/2020</td>\n",
       "      <td>Canvass</td>\n",
       "      <td>1</td>\n",
       "      <td>37. FOOD PROPERLY LABELED; ORIGINAL CONTAINER ...</td>\n",
       "      <td>41.935930</td>\n",
       "      <td>-87.644407</td>\n",
       "      <td>(41.93592957402078, -87.64440716256712)</td>\n",
       "    </tr>\n",
       "  </tbody>\n",
       "</table>\n",
       "</div>"
      ],
      "text/plain": [
       "    Inspection ID                      DBA Name                      AKA Name  \\\n",
       "1         2240486    TAMALES EMMA LA CHAPARRITA                 LA CHAPARRITA   \n",
       "4         2184537              MYSORE WOODLANDS              MYSORE WOODLANDS   \n",
       "8         2240666  ORANGE GARDEN RESTAURANT LLC  ORANGE GARDEN RESTAURANT LLC   \n",
       "9         2280082         BEERHEAD BAR & EATERY         BEERHEAD BAR & EATERY   \n",
       "10        2370625                THE CREPE SHOP                THE CREPE SHOP   \n",
       "\n",
       "    License # Facility Type           Risk                Address     City  \\\n",
       "1   2501598.0    Restaurant  Risk 1 (High)      2500 S WHIPPLE ST  CHICAGO   \n",
       "4   2229409.0    Restaurant  Risk 1 (High)  2548-2550 W DEVON AVE  CHICAGO   \n",
       "8   1942679.0    Restaurant  Risk 1 (High)  1942 W IRVING PARK RD  CHICAGO   \n",
       "9   2600994.0    Restaurant  Risk 1 (High)        3519 N CLARK ST  CHICAGO   \n",
       "10  2699005.0    Restaurant  Risk 1 (High)        2934 N BROADWAY  CHICAGO   \n",
       "\n",
       "   State      Zip Inspection Date Inspection Type  Results  \\\n",
       "1     IL  60623.0      11/20/2018       Complaint        0   \n",
       "4     IL  60659.0      07/12/2018         Canvass        1   \n",
       "8     IL  60613.0      11/27/2018         Canvass        1   \n",
       "9     IL  60657.0      03/26/2019         License        1   \n",
       "10    IL  60657.0      05/15/2020         Canvass        1   \n",
       "\n",
       "                                           Violations   Latitude  Longitude  \\\n",
       "1   1. PERSON IN CHARGE PRESENT, DEMONSTRATES KNOW...  41.846288 -87.701562   \n",
       "4   3. MANAGEMENT, FOOD EMPLOYEE AND CONDITIONAL E...  41.997765 -87.694284   \n",
       "8   3. MANAGEMENT, FOOD EMPLOYEE AND CONDITIONAL E...  41.954276 -87.678033   \n",
       "9   55. PHYSICAL FACILITIES INSTALLED, MAINTAINED ...  41.946281 -87.655603   \n",
       "10  37. FOOD PROPERLY LABELED; ORIGINAL CONTAINER ...  41.935930 -87.644407   \n",
       "\n",
       "                                    Location  \n",
       "1   (41.846287752477586, -87.70156191989919)  \n",
       "4     (41.9977653535896, -87.69428406894727)  \n",
       "8    (41.954276019666246, -87.6780332991192)  \n",
       "9    (41.94628081101039, -87.65560312808297)  \n",
       "10   (41.93592957402078, -87.64440716256712)  "
      ]
     },
     "execution_count": 32,
     "metadata": {},
     "output_type": "execute_result"
    }
   ],
   "source": [
    "final_df=final_risk.replace(results_numerical)\n",
    "final_df.head()"
   ]
  },
  {
   "cell_type": "code",
   "execution_count": null,
   "metadata": {
    "tags": []
   },
   "outputs": [],
   "source": []
  },
  {
   "cell_type": "code",
   "execution_count": null,
   "metadata": {},
   "outputs": [],
   "source": []
  },
  {
   "cell_type": "code",
   "execution_count": 33,
   "metadata": {},
   "outputs": [],
   "source": [
    "#univariate logistic regression\n",
    "#define our X and Y\n",
    "Y=list(final_df['Results'])\n"
   ]
  },
  {
   "cell_type": "code",
   "execution_count": 34,
   "metadata": {},
   "outputs": [],
   "source": [
    "#dummy variabke for X\n",
    "X = pd.get_dummies(final_df['Risk'])"
   ]
  },
  {
   "cell_type": "code",
   "execution_count": null,
   "metadata": {},
   "outputs": [],
   "source": []
  },
  {
   "cell_type": "code",
   "execution_count": 36,
   "metadata": {},
   "outputs": [
    {
     "data": {
      "text/html": [
       "<div>\n",
       "<style scoped>\n",
       "    .dataframe tbody tr th:only-of-type {\n",
       "        vertical-align: middle;\n",
       "    }\n",
       "\n",
       "    .dataframe tbody tr th {\n",
       "        vertical-align: top;\n",
       "    }\n",
       "\n",
       "    .dataframe thead th {\n",
       "        text-align: right;\n",
       "    }\n",
       "</style>\n",
       "<table border=\"1\" class=\"dataframe\">\n",
       "  <thead>\n",
       "    <tr style=\"text-align: right;\">\n",
       "      <th></th>\n",
       "      <th>Risk</th>\n",
       "      <th>Results</th>\n",
       "    </tr>\n",
       "  </thead>\n",
       "  <tbody>\n",
       "    <tr>\n",
       "      <th>1</th>\n",
       "      <td>Risk 1 (High)</td>\n",
       "      <td>0</td>\n",
       "    </tr>\n",
       "    <tr>\n",
       "      <th>4</th>\n",
       "      <td>Risk 1 (High)</td>\n",
       "      <td>1</td>\n",
       "    </tr>\n",
       "    <tr>\n",
       "      <th>8</th>\n",
       "      <td>Risk 1 (High)</td>\n",
       "      <td>1</td>\n",
       "    </tr>\n",
       "    <tr>\n",
       "      <th>9</th>\n",
       "      <td>Risk 1 (High)</td>\n",
       "      <td>1</td>\n",
       "    </tr>\n",
       "    <tr>\n",
       "      <th>10</th>\n",
       "      <td>Risk 1 (High)</td>\n",
       "      <td>1</td>\n",
       "    </tr>\n",
       "    <tr>\n",
       "      <th>...</th>\n",
       "      <td>...</td>\n",
       "      <td>...</td>\n",
       "    </tr>\n",
       "    <tr>\n",
       "      <th>208246</th>\n",
       "      <td>Risk 1 (High)</td>\n",
       "      <td>1</td>\n",
       "    </tr>\n",
       "    <tr>\n",
       "      <th>208250</th>\n",
       "      <td>Risk 1 (High)</td>\n",
       "      <td>1</td>\n",
       "    </tr>\n",
       "    <tr>\n",
       "      <th>208251</th>\n",
       "      <td>Risk 2 (Medium)</td>\n",
       "      <td>1</td>\n",
       "    </tr>\n",
       "    <tr>\n",
       "      <th>208252</th>\n",
       "      <td>Risk 1 (High)</td>\n",
       "      <td>1</td>\n",
       "    </tr>\n",
       "    <tr>\n",
       "      <th>208253</th>\n",
       "      <td>Risk 1 (High)</td>\n",
       "      <td>0</td>\n",
       "    </tr>\n",
       "  </tbody>\n",
       "</table>\n",
       "<p>128788 rows × 2 columns</p>\n",
       "</div>"
      ],
      "text/plain": [
       "                   Risk  Results\n",
       "1         Risk 1 (High)        0\n",
       "4         Risk 1 (High)        1\n",
       "8         Risk 1 (High)        1\n",
       "9         Risk 1 (High)        1\n",
       "10        Risk 1 (High)        1\n",
       "...                 ...      ...\n",
       "208246    Risk 1 (High)        1\n",
       "208250    Risk 1 (High)        1\n",
       "208251  Risk 2 (Medium)        1\n",
       "208252    Risk 1 (High)        1\n",
       "208253    Risk 1 (High)        0\n",
       "\n",
       "[128788 rows x 2 columns]"
      ]
     },
     "execution_count": 36,
     "metadata": {},
     "output_type": "execute_result"
    }
   ],
   "source": [
    "data=final_df[['Risk','Results']]\n",
    "data"
   ]
  },
  {
   "cell_type": "code",
   "execution_count": null,
   "metadata": {},
   "outputs": [],
   "source": []
  },
  {
   "cell_type": "code",
   "execution_count": 37,
   "metadata": {},
   "outputs": [],
   "source": [
    "y=data.Results"
   ]
  },
  {
   "cell_type": "code",
   "execution_count": 38,
   "metadata": {},
   "outputs": [
    {
     "data": {
      "text/plain": [
       "1    96012\n",
       "0    32776\n",
       "Name: Results, dtype: int64"
      ]
     },
     "execution_count": 38,
     "metadata": {},
     "output_type": "execute_result"
    }
   ],
   "source": [
    "y.value_counts()"
   ]
  },
  {
   "cell_type": "code",
   "execution_count": 39,
   "metadata": {},
   "outputs": [],
   "source": [
    "#create samples\n",
    "from imblearn.over_sampling import SMOTE\n",
    "os=SMOTE(random_state=0)\n",
    "Risk_train, Risk_test, Results_train, Results_test= train_test_split(X,Y, test_size=0.3, random_state=0)"
   ]
  },
  {
   "cell_type": "code",
   "execution_count": null,
   "metadata": {},
   "outputs": [],
   "source": []
  },
  {
   "cell_type": "code",
   "execution_count": 40,
   "metadata": {
    "tags": []
   },
   "outputs": [
    {
     "name": "stdout",
     "output_type": "stream",
     "text": [
      "Optimization terminated successfully.\n",
      "         Current function value: 0.566879\n",
      "         Iterations 5\n",
      "                          Results: Logit\n",
      "==================================================================\n",
      "Model:              Logit            Pseudo R-squared: 0.001      \n",
      "Dependent Variable: y                AIC:              146020.3134\n",
      "Date:               2020-07-27 18:10 BIC:              146049.6112\n",
      "No. Observations:   128788           Log-Likelihood:   -73007.    \n",
      "Df Model:           2                LL-Null:          -73051.    \n",
      "Df Residuals:       128785           LLR p-value:      7.4432e-20 \n",
      "Converged:          1.0000           Scale:            1.0000     \n",
      "No. Iterations:     5.0000                                        \n",
      "-------------------------------------------------------------------\n",
      "                 Coef.   Std.Err.     z      P>|z|   [0.025  0.975]\n",
      "-------------------------------------------------------------------\n",
      "Risk 1 (High)    1.0555    0.0071  148.9388  0.0000  1.0416  1.0694\n",
      "Risk 2 (Medium)  1.1838    0.0154   76.8183  0.0000  1.1536  1.2140\n",
      "Risk 3 (Low)     0.7504    0.0583   12.8688  0.0000  0.6361  0.8647\n",
      "==================================================================\n",
      "\n"
     ]
    }
   ],
   "source": [
    "import statsmodels.api as sm\n",
    "logit_model=sm.Logit(Y,X)\n",
    "result=logit_model.fit()\n",
    "print(result.summary2())\n"
   ]
  },
  {
   "cell_type": "code",
   "execution_count": 41,
   "metadata": {},
   "outputs": [
    {
     "ename": "ValueError",
     "evalue": "could not convert string to float: 'Risk 1 (High)'",
     "output_type": "error",
     "traceback": [
      "\u001b[0;31m---------------------------------------------------------------------------\u001b[0m",
      "\u001b[0;31mValueError\u001b[0m                                Traceback (most recent call last)",
      "\u001b[0;32m<ipython-input-41-c725057a2ae7>\u001b[0m in \u001b[0;36m<module>\u001b[0;34m\u001b[0m\n\u001b[1;32m      4\u001b[0m \u001b[0mRisk_train\u001b[0m\u001b[0;34m,\u001b[0m \u001b[0mRisk_test\u001b[0m\u001b[0;34m,\u001b[0m \u001b[0mResults_train\u001b[0m\u001b[0;34m,\u001b[0m \u001b[0mResults_test\u001b[0m \u001b[0;34m=\u001b[0m \u001b[0mtrain_test_split\u001b[0m\u001b[0;34m(\u001b[0m\u001b[0mdata\u001b[0m\u001b[0;34m[\u001b[0m\u001b[0;34m'Risk'\u001b[0m\u001b[0;34m]\u001b[0m\u001b[0;34m,\u001b[0m \u001b[0mdata\u001b[0m\u001b[0;34m[\u001b[0m\u001b[0;34m'Results'\u001b[0m\u001b[0;34m]\u001b[0m\u001b[0;34m,\u001b[0m \u001b[0mtest_size\u001b[0m\u001b[0;34m=\u001b[0m\u001b[0;36m0.3\u001b[0m\u001b[0;34m,\u001b[0m \u001b[0mrandom_state\u001b[0m\u001b[0;34m=\u001b[0m\u001b[0;36m0\u001b[0m\u001b[0;34m)\u001b[0m\u001b[0;34m\u001b[0m\u001b[0;34m\u001b[0m\u001b[0m\n\u001b[1;32m      5\u001b[0m \u001b[0mlogreg\u001b[0m \u001b[0;34m=\u001b[0m \u001b[0mLogisticRegression\u001b[0m\u001b[0;34m(\u001b[0m\u001b[0;34m)\u001b[0m\u001b[0;34m\u001b[0m\u001b[0;34m\u001b[0m\u001b[0m\n\u001b[0;32m----> 6\u001b[0;31m \u001b[0mlogreg\u001b[0m\u001b[0;34m.\u001b[0m\u001b[0mfit\u001b[0m\u001b[0;34m(\u001b[0m\u001b[0mpd\u001b[0m\u001b[0;34m.\u001b[0m\u001b[0mDataFrame\u001b[0m\u001b[0;34m(\u001b[0m\u001b[0mRisk_train\u001b[0m\u001b[0;34m)\u001b[0m\u001b[0;34m,\u001b[0m\u001b[0mResults_train\u001b[0m\u001b[0;34m)\u001b[0m\u001b[0;34m\u001b[0m\u001b[0;34m\u001b[0m\u001b[0m\n\u001b[0m\u001b[1;32m      7\u001b[0m \u001b[0mResults_pred\u001b[0m \u001b[0;34m=\u001b[0m \u001b[0mlogreg\u001b[0m\u001b[0;34m.\u001b[0m\u001b[0mpredict\u001b[0m\u001b[0;34m(\u001b[0m\u001b[0mpd\u001b[0m\u001b[0;34m.\u001b[0m\u001b[0mDataFrame\u001b[0m\u001b[0;34m(\u001b[0m\u001b[0mRisk_test\u001b[0m\u001b[0;34m)\u001b[0m\u001b[0;34m)\u001b[0m\u001b[0;34m\u001b[0m\u001b[0;34m\u001b[0m\u001b[0m\n\u001b[1;32m      8\u001b[0m \u001b[0mResults_pred\u001b[0m\u001b[0;34m\u001b[0m\u001b[0;34m\u001b[0m\u001b[0m\n",
      "\u001b[0;32m/anaconda3/lib/python3.7/site-packages/sklearn/linear_model/_logistic.py\u001b[0m in \u001b[0;36mfit\u001b[0;34m(self, X, y, sample_weight)\u001b[0m\n\u001b[1;32m   1342\u001b[0m         X, y = self._validate_data(X, y, accept_sparse='csr', dtype=_dtype,\n\u001b[1;32m   1343\u001b[0m                                    \u001b[0morder\u001b[0m\u001b[0;34m=\u001b[0m\u001b[0;34m\"C\"\u001b[0m\u001b[0;34m,\u001b[0m\u001b[0;34m\u001b[0m\u001b[0;34m\u001b[0m\u001b[0m\n\u001b[0;32m-> 1344\u001b[0;31m                                    accept_large_sparse=solver != 'liblinear')\n\u001b[0m\u001b[1;32m   1345\u001b[0m         \u001b[0mcheck_classification_targets\u001b[0m\u001b[0;34m(\u001b[0m\u001b[0my\u001b[0m\u001b[0;34m)\u001b[0m\u001b[0;34m\u001b[0m\u001b[0;34m\u001b[0m\u001b[0m\n\u001b[1;32m   1346\u001b[0m         \u001b[0mself\u001b[0m\u001b[0;34m.\u001b[0m\u001b[0mclasses_\u001b[0m \u001b[0;34m=\u001b[0m \u001b[0mnp\u001b[0m\u001b[0;34m.\u001b[0m\u001b[0munique\u001b[0m\u001b[0;34m(\u001b[0m\u001b[0my\u001b[0m\u001b[0;34m)\u001b[0m\u001b[0;34m\u001b[0m\u001b[0;34m\u001b[0m\u001b[0m\n",
      "\u001b[0;32m/anaconda3/lib/python3.7/site-packages/sklearn/base.py\u001b[0m in \u001b[0;36m_validate_data\u001b[0;34m(self, X, y, reset, validate_separately, **check_params)\u001b[0m\n\u001b[1;32m    430\u001b[0m                 \u001b[0my\u001b[0m \u001b[0;34m=\u001b[0m \u001b[0mcheck_array\u001b[0m\u001b[0;34m(\u001b[0m\u001b[0my\u001b[0m\u001b[0;34m,\u001b[0m \u001b[0;34m**\u001b[0m\u001b[0mcheck_y_params\u001b[0m\u001b[0;34m)\u001b[0m\u001b[0;34m\u001b[0m\u001b[0;34m\u001b[0m\u001b[0m\n\u001b[1;32m    431\u001b[0m             \u001b[0;32melse\u001b[0m\u001b[0;34m:\u001b[0m\u001b[0;34m\u001b[0m\u001b[0;34m\u001b[0m\u001b[0m\n\u001b[0;32m--> 432\u001b[0;31m                 \u001b[0mX\u001b[0m\u001b[0;34m,\u001b[0m \u001b[0my\u001b[0m \u001b[0;34m=\u001b[0m \u001b[0mcheck_X_y\u001b[0m\u001b[0;34m(\u001b[0m\u001b[0mX\u001b[0m\u001b[0;34m,\u001b[0m \u001b[0my\u001b[0m\u001b[0;34m,\u001b[0m \u001b[0;34m**\u001b[0m\u001b[0mcheck_params\u001b[0m\u001b[0;34m)\u001b[0m\u001b[0;34m\u001b[0m\u001b[0;34m\u001b[0m\u001b[0m\n\u001b[0m\u001b[1;32m    433\u001b[0m             \u001b[0mout\u001b[0m \u001b[0;34m=\u001b[0m \u001b[0mX\u001b[0m\u001b[0;34m,\u001b[0m \u001b[0my\u001b[0m\u001b[0;34m\u001b[0m\u001b[0;34m\u001b[0m\u001b[0m\n\u001b[1;32m    434\u001b[0m \u001b[0;34m\u001b[0m\u001b[0m\n",
      "\u001b[0;32m/anaconda3/lib/python3.7/site-packages/sklearn/utils/validation.py\u001b[0m in \u001b[0;36minner_f\u001b[0;34m(*args, **kwargs)\u001b[0m\n\u001b[1;32m     71\u001b[0m                           FutureWarning)\n\u001b[1;32m     72\u001b[0m         \u001b[0mkwargs\u001b[0m\u001b[0;34m.\u001b[0m\u001b[0mupdate\u001b[0m\u001b[0;34m(\u001b[0m\u001b[0;34m{\u001b[0m\u001b[0mk\u001b[0m\u001b[0;34m:\u001b[0m \u001b[0marg\u001b[0m \u001b[0;32mfor\u001b[0m \u001b[0mk\u001b[0m\u001b[0;34m,\u001b[0m \u001b[0marg\u001b[0m \u001b[0;32min\u001b[0m \u001b[0mzip\u001b[0m\u001b[0;34m(\u001b[0m\u001b[0msig\u001b[0m\u001b[0;34m.\u001b[0m\u001b[0mparameters\u001b[0m\u001b[0;34m,\u001b[0m \u001b[0margs\u001b[0m\u001b[0;34m)\u001b[0m\u001b[0;34m}\u001b[0m\u001b[0;34m)\u001b[0m\u001b[0;34m\u001b[0m\u001b[0;34m\u001b[0m\u001b[0m\n\u001b[0;32m---> 73\u001b[0;31m         \u001b[0;32mreturn\u001b[0m \u001b[0mf\u001b[0m\u001b[0;34m(\u001b[0m\u001b[0;34m**\u001b[0m\u001b[0mkwargs\u001b[0m\u001b[0;34m)\u001b[0m\u001b[0;34m\u001b[0m\u001b[0;34m\u001b[0m\u001b[0m\n\u001b[0m\u001b[1;32m     74\u001b[0m     \u001b[0;32mreturn\u001b[0m \u001b[0minner_f\u001b[0m\u001b[0;34m\u001b[0m\u001b[0;34m\u001b[0m\u001b[0m\n\u001b[1;32m     75\u001b[0m \u001b[0;34m\u001b[0m\u001b[0m\n",
      "\u001b[0;32m/anaconda3/lib/python3.7/site-packages/sklearn/utils/validation.py\u001b[0m in \u001b[0;36mcheck_X_y\u001b[0;34m(X, y, accept_sparse, accept_large_sparse, dtype, order, copy, force_all_finite, ensure_2d, allow_nd, multi_output, ensure_min_samples, ensure_min_features, y_numeric, estimator)\u001b[0m\n\u001b[1;32m    801\u001b[0m                     \u001b[0mensure_min_samples\u001b[0m\u001b[0;34m=\u001b[0m\u001b[0mensure_min_samples\u001b[0m\u001b[0;34m,\u001b[0m\u001b[0;34m\u001b[0m\u001b[0;34m\u001b[0m\u001b[0m\n\u001b[1;32m    802\u001b[0m                     \u001b[0mensure_min_features\u001b[0m\u001b[0;34m=\u001b[0m\u001b[0mensure_min_features\u001b[0m\u001b[0;34m,\u001b[0m\u001b[0;34m\u001b[0m\u001b[0;34m\u001b[0m\u001b[0m\n\u001b[0;32m--> 803\u001b[0;31m                     estimator=estimator)\n\u001b[0m\u001b[1;32m    804\u001b[0m     \u001b[0;32mif\u001b[0m \u001b[0mmulti_output\u001b[0m\u001b[0;34m:\u001b[0m\u001b[0;34m\u001b[0m\u001b[0;34m\u001b[0m\u001b[0m\n\u001b[1;32m    805\u001b[0m         y = check_array(y, accept_sparse='csr', force_all_finite=True,\n",
      "\u001b[0;32m/anaconda3/lib/python3.7/site-packages/sklearn/utils/validation.py\u001b[0m in \u001b[0;36minner_f\u001b[0;34m(*args, **kwargs)\u001b[0m\n\u001b[1;32m     71\u001b[0m                           FutureWarning)\n\u001b[1;32m     72\u001b[0m         \u001b[0mkwargs\u001b[0m\u001b[0;34m.\u001b[0m\u001b[0mupdate\u001b[0m\u001b[0;34m(\u001b[0m\u001b[0;34m{\u001b[0m\u001b[0mk\u001b[0m\u001b[0;34m:\u001b[0m \u001b[0marg\u001b[0m \u001b[0;32mfor\u001b[0m \u001b[0mk\u001b[0m\u001b[0;34m,\u001b[0m \u001b[0marg\u001b[0m \u001b[0;32min\u001b[0m \u001b[0mzip\u001b[0m\u001b[0;34m(\u001b[0m\u001b[0msig\u001b[0m\u001b[0;34m.\u001b[0m\u001b[0mparameters\u001b[0m\u001b[0;34m,\u001b[0m \u001b[0margs\u001b[0m\u001b[0;34m)\u001b[0m\u001b[0;34m}\u001b[0m\u001b[0;34m)\u001b[0m\u001b[0;34m\u001b[0m\u001b[0;34m\u001b[0m\u001b[0m\n\u001b[0;32m---> 73\u001b[0;31m         \u001b[0;32mreturn\u001b[0m \u001b[0mf\u001b[0m\u001b[0;34m(\u001b[0m\u001b[0;34m**\u001b[0m\u001b[0mkwargs\u001b[0m\u001b[0;34m)\u001b[0m\u001b[0;34m\u001b[0m\u001b[0;34m\u001b[0m\u001b[0m\n\u001b[0m\u001b[1;32m     74\u001b[0m     \u001b[0;32mreturn\u001b[0m \u001b[0minner_f\u001b[0m\u001b[0;34m\u001b[0m\u001b[0;34m\u001b[0m\u001b[0m\n\u001b[1;32m     75\u001b[0m \u001b[0;34m\u001b[0m\u001b[0m\n",
      "\u001b[0;32m/anaconda3/lib/python3.7/site-packages/sklearn/utils/validation.py\u001b[0m in \u001b[0;36mcheck_array\u001b[0;34m(array, accept_sparse, accept_large_sparse, dtype, order, copy, force_all_finite, ensure_2d, allow_nd, ensure_min_samples, ensure_min_features, estimator)\u001b[0m\n\u001b[1;32m    597\u001b[0m                     \u001b[0marray\u001b[0m \u001b[0;34m=\u001b[0m \u001b[0marray\u001b[0m\u001b[0;34m.\u001b[0m\u001b[0mastype\u001b[0m\u001b[0;34m(\u001b[0m\u001b[0mdtype\u001b[0m\u001b[0;34m,\u001b[0m \u001b[0mcasting\u001b[0m\u001b[0;34m=\u001b[0m\u001b[0;34m\"unsafe\"\u001b[0m\u001b[0;34m,\u001b[0m \u001b[0mcopy\u001b[0m\u001b[0;34m=\u001b[0m\u001b[0;32mFalse\u001b[0m\u001b[0;34m)\u001b[0m\u001b[0;34m\u001b[0m\u001b[0;34m\u001b[0m\u001b[0m\n\u001b[1;32m    598\u001b[0m                 \u001b[0;32melse\u001b[0m\u001b[0;34m:\u001b[0m\u001b[0;34m\u001b[0m\u001b[0;34m\u001b[0m\u001b[0m\n\u001b[0;32m--> 599\u001b[0;31m                     \u001b[0marray\u001b[0m \u001b[0;34m=\u001b[0m \u001b[0mnp\u001b[0m\u001b[0;34m.\u001b[0m\u001b[0masarray\u001b[0m\u001b[0;34m(\u001b[0m\u001b[0marray\u001b[0m\u001b[0;34m,\u001b[0m \u001b[0morder\u001b[0m\u001b[0;34m=\u001b[0m\u001b[0morder\u001b[0m\u001b[0;34m,\u001b[0m \u001b[0mdtype\u001b[0m\u001b[0;34m=\u001b[0m\u001b[0mdtype\u001b[0m\u001b[0;34m)\u001b[0m\u001b[0;34m\u001b[0m\u001b[0;34m\u001b[0m\u001b[0m\n\u001b[0m\u001b[1;32m    600\u001b[0m             \u001b[0;32mexcept\u001b[0m \u001b[0mComplexWarning\u001b[0m\u001b[0;34m:\u001b[0m\u001b[0;34m\u001b[0m\u001b[0;34m\u001b[0m\u001b[0m\n\u001b[1;32m    601\u001b[0m                 raise ValueError(\"Complex data not supported\\n\"\n",
      "\u001b[0;32m/anaconda3/lib/python3.7/site-packages/numpy/core/numeric.py\u001b[0m in \u001b[0;36masarray\u001b[0;34m(a, dtype, order)\u001b[0m\n\u001b[1;32m    536\u001b[0m \u001b[0;34m\u001b[0m\u001b[0m\n\u001b[1;32m    537\u001b[0m     \"\"\"\n\u001b[0;32m--> 538\u001b[0;31m     \u001b[0;32mreturn\u001b[0m \u001b[0marray\u001b[0m\u001b[0;34m(\u001b[0m\u001b[0ma\u001b[0m\u001b[0;34m,\u001b[0m \u001b[0mdtype\u001b[0m\u001b[0;34m,\u001b[0m \u001b[0mcopy\u001b[0m\u001b[0;34m=\u001b[0m\u001b[0;32mFalse\u001b[0m\u001b[0;34m,\u001b[0m \u001b[0morder\u001b[0m\u001b[0;34m=\u001b[0m\u001b[0morder\u001b[0m\u001b[0;34m)\u001b[0m\u001b[0;34m\u001b[0m\u001b[0;34m\u001b[0m\u001b[0m\n\u001b[0m\u001b[1;32m    539\u001b[0m \u001b[0;34m\u001b[0m\u001b[0m\n\u001b[1;32m    540\u001b[0m \u001b[0;34m\u001b[0m\u001b[0m\n",
      "\u001b[0;31mValueError\u001b[0m: could not convert string to float: 'Risk 1 (High)'"
     ]
    }
   ],
   "source": [
    "#Test the model\n",
    "from sklearn.linear_model import LogisticRegression\n",
    "from sklearn import metrics\n",
    "Risk_train, Risk_test, Results_train, Results_test = train_test_split(data['Risk'], data['Results'], test_size=0.3, random_state=0)\n",
    "logreg = LogisticRegression()\n",
    "logreg.fit(pd.DataFrame(Risk_train),Results_train)\n",
    "Results_pred = logreg.predict(pd.DataFrame(Risk_test))\n",
    "Results_pred"
   ]
  },
  {
   "cell_type": "code",
   "execution_count": 42,
   "metadata": {},
   "outputs": [
    {
     "ename": "NotFittedError",
     "evalue": "This LogisticRegression instance is not fitted yet. Call 'fit' with appropriate arguments before using this estimator.",
     "output_type": "error",
     "traceback": [
      "\u001b[0;31m---------------------------------------------------------------------------\u001b[0m",
      "\u001b[0;31mNotFittedError\u001b[0m                            Traceback (most recent call last)",
      "\u001b[0;32m<ipython-input-42-78e37a06929d>\u001b[0m in \u001b[0;36m<module>\u001b[0;34m\u001b[0m\n\u001b[1;32m      1\u001b[0m \u001b[0;31m# Check the accuracy\u001b[0m\u001b[0;34m\u001b[0m\u001b[0;34m\u001b[0m\u001b[0;34m\u001b[0m\u001b[0m\n\u001b[0;32m----> 2\u001b[0;31m \u001b[0mprint\u001b[0m\u001b[0;34m(\u001b[0m\u001b[0;34m'Accuracy of logistic regression classifier on test set: {:.2f}'\u001b[0m\u001b[0;34m.\u001b[0m\u001b[0mformat\u001b[0m\u001b[0;34m(\u001b[0m\u001b[0mlogreg\u001b[0m\u001b[0;34m.\u001b[0m\u001b[0mscore\u001b[0m\u001b[0;34m(\u001b[0m\u001b[0mpd\u001b[0m\u001b[0;34m.\u001b[0m\u001b[0mDataFrame\u001b[0m\u001b[0;34m(\u001b[0m\u001b[0mRisk_test\u001b[0m\u001b[0;34m)\u001b[0m\u001b[0;34m,\u001b[0m\u001b[0mpd\u001b[0m\u001b[0;34m.\u001b[0m\u001b[0mDataFrame\u001b[0m \u001b[0;34m(\u001b[0m\u001b[0mResults_test\u001b[0m\u001b[0;34m)\u001b[0m\u001b[0;34m)\u001b[0m\u001b[0;34m)\u001b[0m\u001b[0;34m)\u001b[0m\u001b[0;34m\u001b[0m\u001b[0;34m\u001b[0m\u001b[0m\n\u001b[0m",
      "\u001b[0;32m/anaconda3/lib/python3.7/site-packages/sklearn/base.py\u001b[0m in \u001b[0;36mscore\u001b[0;34m(self, X, y, sample_weight)\u001b[0m\n\u001b[1;32m    497\u001b[0m         \"\"\"\n\u001b[1;32m    498\u001b[0m         \u001b[0;32mfrom\u001b[0m \u001b[0;34m.\u001b[0m\u001b[0mmetrics\u001b[0m \u001b[0;32mimport\u001b[0m \u001b[0maccuracy_score\u001b[0m\u001b[0;34m\u001b[0m\u001b[0;34m\u001b[0m\u001b[0m\n\u001b[0;32m--> 499\u001b[0;31m         \u001b[0;32mreturn\u001b[0m \u001b[0maccuracy_score\u001b[0m\u001b[0;34m(\u001b[0m\u001b[0my\u001b[0m\u001b[0;34m,\u001b[0m \u001b[0mself\u001b[0m\u001b[0;34m.\u001b[0m\u001b[0mpredict\u001b[0m\u001b[0;34m(\u001b[0m\u001b[0mX\u001b[0m\u001b[0;34m)\u001b[0m\u001b[0;34m,\u001b[0m \u001b[0msample_weight\u001b[0m\u001b[0;34m=\u001b[0m\u001b[0msample_weight\u001b[0m\u001b[0;34m)\u001b[0m\u001b[0;34m\u001b[0m\u001b[0;34m\u001b[0m\u001b[0m\n\u001b[0m\u001b[1;32m    500\u001b[0m \u001b[0;34m\u001b[0m\u001b[0m\n\u001b[1;32m    501\u001b[0m     \u001b[0;32mdef\u001b[0m \u001b[0m_more_tags\u001b[0m\u001b[0;34m(\u001b[0m\u001b[0mself\u001b[0m\u001b[0;34m)\u001b[0m\u001b[0;34m:\u001b[0m\u001b[0;34m\u001b[0m\u001b[0;34m\u001b[0m\u001b[0m\n",
      "\u001b[0;32m/anaconda3/lib/python3.7/site-packages/sklearn/linear_model/_base.py\u001b[0m in \u001b[0;36mpredict\u001b[0;34m(self, X)\u001b[0m\n\u001b[1;32m    305\u001b[0m             \u001b[0mPredicted\u001b[0m \u001b[0;32mclass\u001b[0m \u001b[0mlabel\u001b[0m \u001b[0mper\u001b[0m \u001b[0msample\u001b[0m\u001b[0;34m.\u001b[0m\u001b[0;34m\u001b[0m\u001b[0;34m\u001b[0m\u001b[0m\n\u001b[1;32m    306\u001b[0m         \"\"\"\n\u001b[0;32m--> 307\u001b[0;31m         \u001b[0mscores\u001b[0m \u001b[0;34m=\u001b[0m \u001b[0mself\u001b[0m\u001b[0;34m.\u001b[0m\u001b[0mdecision_function\u001b[0m\u001b[0;34m(\u001b[0m\u001b[0mX\u001b[0m\u001b[0;34m)\u001b[0m\u001b[0;34m\u001b[0m\u001b[0;34m\u001b[0m\u001b[0m\n\u001b[0m\u001b[1;32m    308\u001b[0m         \u001b[0;32mif\u001b[0m \u001b[0mlen\u001b[0m\u001b[0;34m(\u001b[0m\u001b[0mscores\u001b[0m\u001b[0;34m.\u001b[0m\u001b[0mshape\u001b[0m\u001b[0;34m)\u001b[0m \u001b[0;34m==\u001b[0m \u001b[0;36m1\u001b[0m\u001b[0;34m:\u001b[0m\u001b[0;34m\u001b[0m\u001b[0;34m\u001b[0m\u001b[0m\n\u001b[1;32m    309\u001b[0m             \u001b[0mindices\u001b[0m \u001b[0;34m=\u001b[0m \u001b[0;34m(\u001b[0m\u001b[0mscores\u001b[0m \u001b[0;34m>\u001b[0m \u001b[0;36m0\u001b[0m\u001b[0;34m)\u001b[0m\u001b[0;34m.\u001b[0m\u001b[0mastype\u001b[0m\u001b[0;34m(\u001b[0m\u001b[0mnp\u001b[0m\u001b[0;34m.\u001b[0m\u001b[0mint\u001b[0m\u001b[0;34m)\u001b[0m\u001b[0;34m\u001b[0m\u001b[0;34m\u001b[0m\u001b[0m\n",
      "\u001b[0;32m/anaconda3/lib/python3.7/site-packages/sklearn/linear_model/_base.py\u001b[0m in \u001b[0;36mdecision_function\u001b[0;34m(self, X)\u001b[0m\n\u001b[1;32m    278\u001b[0m             \u001b[0;32mclass\u001b[0m \u001b[0mwould\u001b[0m \u001b[0mbe\u001b[0m \u001b[0mpredicted\u001b[0m\u001b[0;34m.\u001b[0m\u001b[0;34m\u001b[0m\u001b[0;34m\u001b[0m\u001b[0m\n\u001b[1;32m    279\u001b[0m         \"\"\"\n\u001b[0;32m--> 280\u001b[0;31m         \u001b[0mcheck_is_fitted\u001b[0m\u001b[0;34m(\u001b[0m\u001b[0mself\u001b[0m\u001b[0;34m)\u001b[0m\u001b[0;34m\u001b[0m\u001b[0;34m\u001b[0m\u001b[0m\n\u001b[0m\u001b[1;32m    281\u001b[0m \u001b[0;34m\u001b[0m\u001b[0m\n\u001b[1;32m    282\u001b[0m         \u001b[0mX\u001b[0m \u001b[0;34m=\u001b[0m \u001b[0mcheck_array\u001b[0m\u001b[0;34m(\u001b[0m\u001b[0mX\u001b[0m\u001b[0;34m,\u001b[0m \u001b[0maccept_sparse\u001b[0m\u001b[0;34m=\u001b[0m\u001b[0;34m'csr'\u001b[0m\u001b[0;34m)\u001b[0m\u001b[0;34m\u001b[0m\u001b[0;34m\u001b[0m\u001b[0m\n",
      "\u001b[0;32m/anaconda3/lib/python3.7/site-packages/sklearn/utils/validation.py\u001b[0m in \u001b[0;36minner_f\u001b[0;34m(*args, **kwargs)\u001b[0m\n\u001b[1;32m     71\u001b[0m                           FutureWarning)\n\u001b[1;32m     72\u001b[0m         \u001b[0mkwargs\u001b[0m\u001b[0;34m.\u001b[0m\u001b[0mupdate\u001b[0m\u001b[0;34m(\u001b[0m\u001b[0;34m{\u001b[0m\u001b[0mk\u001b[0m\u001b[0;34m:\u001b[0m \u001b[0marg\u001b[0m \u001b[0;32mfor\u001b[0m \u001b[0mk\u001b[0m\u001b[0;34m,\u001b[0m \u001b[0marg\u001b[0m \u001b[0;32min\u001b[0m \u001b[0mzip\u001b[0m\u001b[0;34m(\u001b[0m\u001b[0msig\u001b[0m\u001b[0;34m.\u001b[0m\u001b[0mparameters\u001b[0m\u001b[0;34m,\u001b[0m \u001b[0margs\u001b[0m\u001b[0;34m)\u001b[0m\u001b[0;34m}\u001b[0m\u001b[0;34m)\u001b[0m\u001b[0;34m\u001b[0m\u001b[0;34m\u001b[0m\u001b[0m\n\u001b[0;32m---> 73\u001b[0;31m         \u001b[0;32mreturn\u001b[0m \u001b[0mf\u001b[0m\u001b[0;34m(\u001b[0m\u001b[0;34m**\u001b[0m\u001b[0mkwargs\u001b[0m\u001b[0;34m)\u001b[0m\u001b[0;34m\u001b[0m\u001b[0;34m\u001b[0m\u001b[0m\n\u001b[0m\u001b[1;32m     74\u001b[0m     \u001b[0;32mreturn\u001b[0m \u001b[0minner_f\u001b[0m\u001b[0;34m\u001b[0m\u001b[0;34m\u001b[0m\u001b[0m\n\u001b[1;32m     75\u001b[0m \u001b[0;34m\u001b[0m\u001b[0m\n",
      "\u001b[0;32m/anaconda3/lib/python3.7/site-packages/sklearn/utils/validation.py\u001b[0m in \u001b[0;36mcheck_is_fitted\u001b[0;34m(estimator, attributes, msg, all_or_any)\u001b[0m\n\u001b[1;32m   1018\u001b[0m \u001b[0;34m\u001b[0m\u001b[0m\n\u001b[1;32m   1019\u001b[0m     \u001b[0;32mif\u001b[0m \u001b[0;32mnot\u001b[0m \u001b[0mattrs\u001b[0m\u001b[0;34m:\u001b[0m\u001b[0;34m\u001b[0m\u001b[0;34m\u001b[0m\u001b[0m\n\u001b[0;32m-> 1020\u001b[0;31m         \u001b[0;32mraise\u001b[0m \u001b[0mNotFittedError\u001b[0m\u001b[0;34m(\u001b[0m\u001b[0mmsg\u001b[0m \u001b[0;34m%\u001b[0m \u001b[0;34m{\u001b[0m\u001b[0;34m'name'\u001b[0m\u001b[0;34m:\u001b[0m \u001b[0mtype\u001b[0m\u001b[0;34m(\u001b[0m\u001b[0mestimator\u001b[0m\u001b[0;34m)\u001b[0m\u001b[0;34m.\u001b[0m\u001b[0m__name__\u001b[0m\u001b[0;34m}\u001b[0m\u001b[0;34m)\u001b[0m\u001b[0;34m\u001b[0m\u001b[0;34m\u001b[0m\u001b[0m\n\u001b[0m\u001b[1;32m   1021\u001b[0m \u001b[0;34m\u001b[0m\u001b[0m\n\u001b[1;32m   1022\u001b[0m \u001b[0;34m\u001b[0m\u001b[0m\n",
      "\u001b[0;31mNotFittedError\u001b[0m: This LogisticRegression instance is not fitted yet. Call 'fit' with appropriate arguments before using this estimator."
     ]
    }
   ],
   "source": [
    "# Check the accuracy\n",
    "print('Accuracy of logistic regression classifier on test set: {:.2f}'.format(logreg.score(pd.DataFrame(Risk_test),pd.DataFrame (Results_test))))"
   ]
  },
  {
   "cell_type": "code",
   "execution_count": 43,
   "metadata": {},
   "outputs": [
    {
     "ename": "NameError",
     "evalue": "name 'Results_pred' is not defined",
     "output_type": "error",
     "traceback": [
      "\u001b[0;31m---------------------------------------------------------------------------\u001b[0m",
      "\u001b[0;31mNameError\u001b[0m                                 Traceback (most recent call last)",
      "\u001b[0;32m<ipython-input-43-2c3e6015f93e>\u001b[0m in \u001b[0;36m<module>\u001b[0;34m\u001b[0m\n\u001b[1;32m      1\u001b[0m \u001b[0;31m# Build the confusion matrix\u001b[0m\u001b[0;34m\u001b[0m\u001b[0;34m\u001b[0m\u001b[0;34m\u001b[0m\u001b[0m\n\u001b[1;32m      2\u001b[0m \u001b[0;32mfrom\u001b[0m \u001b[0msklearn\u001b[0m\u001b[0;34m.\u001b[0m\u001b[0mmetrics\u001b[0m \u001b[0;32mimport\u001b[0m \u001b[0mconfusion_matrix\u001b[0m\u001b[0;34m\u001b[0m\u001b[0;34m\u001b[0m\u001b[0m\n\u001b[0;32m----> 3\u001b[0;31m \u001b[0mconfusion_matrix\u001b[0m \u001b[0;34m=\u001b[0m \u001b[0mconfusion_matrix\u001b[0m\u001b[0;34m(\u001b[0m\u001b[0mpd\u001b[0m\u001b[0;34m.\u001b[0m\u001b[0mDataFrame\u001b[0m\u001b[0;34m(\u001b[0m\u001b[0mResults_test\u001b[0m\u001b[0;34m)\u001b[0m\u001b[0;34m,\u001b[0m \u001b[0mpd\u001b[0m\u001b[0;34m.\u001b[0m\u001b[0mDataFrame\u001b[0m\u001b[0;34m(\u001b[0m\u001b[0mResults_pred\u001b[0m\u001b[0;34m)\u001b[0m\u001b[0;34m)\u001b[0m\u001b[0;34m\u001b[0m\u001b[0;34m\u001b[0m\u001b[0m\n\u001b[0m\u001b[1;32m      4\u001b[0m \u001b[0mprint\u001b[0m\u001b[0;34m(\u001b[0m\u001b[0mconfusion_matrix\u001b[0m\u001b[0;34m)\u001b[0m\u001b[0;34m\u001b[0m\u001b[0;34m\u001b[0m\u001b[0m\n",
      "\u001b[0;31mNameError\u001b[0m: name 'Results_pred' is not defined"
     ]
    }
   ],
   "source": [
    "# Build the confusion matrix\n",
    "from sklearn.metrics import confusion_matrix\n",
    "confusion_matrix = confusion_matrix(pd.DataFrame(Results_test), pd.DataFrame(Results_pred))\n",
    "print(confusion_matrix)\n"
   ]
  },
  {
   "cell_type": "code",
   "execution_count": null,
   "metadata": {},
   "outputs": [],
   "source": [
    "from sklearn.metrics import classification_report\n",
    "print(classification_report(pd.DataFrame(Results_test), pd.DataFrame(Results_pred)))"
   ]
  },
  {
   "cell_type": "code",
   "execution_count": 45,
   "metadata": {},
   "outputs": [],
   "source": [
    "#Kynan isolate complaint inspections and canvas inspections\n",
    "complaint_data = clean_data[clean_data[\"Inspection Type\"]== \"Complaint\"]\n",
    "canvass_data = clean_data[clean_data[\"Inspection Type\"]== \"Canvass\"]"
   ]
  },
  {
   "cell_type": "code",
   "execution_count": 46,
   "metadata": {},
   "outputs": [
    {
     "data": {
      "text/plain": [
       "Pass                  6190\n",
       "Fail                  4580\n",
       "Pass w/ Conditions    3273\n",
       "No Entry               660\n",
       "Not Ready               12\n",
       "Name: Results, dtype: int64"
      ]
     },
     "execution_count": 46,
     "metadata": {},
     "output_type": "execute_result"
    }
   ],
   "source": [
    "#Kynan look at inspection pass fail rates by inspection type\n",
    "complaint_consequence = complaint_data[\"Results\"]\n",
    "canvass_consequence = canvass_data[\"Results\"]\n",
    "complaint_consequence.value_counts()\n",
    "com_consequences = [\"Pass\", \"Fail\", \"Pass w/Conditions\", \"No Entry\", \" \"]\n",
    "canvass_consequence.value_counts()\n",
    "can_consequences = [\"Pass\", \"Pass w/Conditions\",  \"Fail\",\"No Entry\", \" \"]\n",
    "complaint_consequence.value_counts()"
   ]
  },
  {
   "cell_type": "code",
   "execution_count": 47,
   "metadata": {},
   "outputs": [
    {
     "data": {
      "image/png": "[encoded data removed]",
      "text/plain": [
       "<Figure size 432x288 with 1 Axes>"
      ]
     },
     "metadata": {},
     "output_type": "display_data"
    }
   ],
   "source": [
    "#Kynan visualize Inspection results for Canvass Inspections\n",
    "colors_can = [\"green\", \"Chartreuse\", \"red\", \"darkgrey\", \"white\"]\n",
    "explode = (0.1,0,0,0,0)\n",
    "plt.pie(canvass_consequence.value_counts(), labels = can_consequences, autopct=\"%1.1f%%\", colors = colors_can, explode = explode)\n",
    "plt.title(\"64,992 Canvass Inspection Results\")\n",
    "plt.savefig(\"Canvass Inspection Results\")\n"
   ]
  },
  {
   "cell_type": "code",
   "execution_count": 48,
   "metadata": {},
   "outputs": [
    {
     "data": {
      "image/png": "[encoded data removed]",
      "text/plain": [
       "<Figure size 432x288 with 1 Axes>"
      ]
     },
     "metadata": {},
     "output_type": "display_data"
    }
   ],
   "source": [
    "#Kynan visualize inspection results for \n",
    "colors_com = [\"green\", \"red\",\"Chartreuse\", \"grey\", \"black\"]\n",
    "explode = (0,0.1,0,0,0)\n",
    "plt.pie(complaint_consequence.value_counts(), labels = com_consequences, autopct=\"%1.1f%%\", colors = colors_com, explode = explode)\n",
    "plt.title(\"14,715 Complaint Inspection Results\")\n",
    "plt.savefig(\"Complaint Inspection Results\")"
   ]
  },
  {
   "cell_type": "code",
   "execution_count": 49,
   "metadata": {},
   "outputs": [],
   "source": [
    "#Kynan look at complaint and canvas inspections by zip code\n",
    "complaint_zip_count = complaint_data[\"Zip\"].value_counts()\n",
    "canvass_zip_count = canvass_data[\"Zip\"].value_counts()\n",
    "complaint_zip_count = complaint_zip_count.sort_index()\n",
    "canvass_zip_count = canvass_zip_count.sort_index()"
   ]
  },
  {
   "cell_type": "code",
   "execution_count": 50,
   "metadata": {},
   "outputs": [],
   "source": [
    "# Kynan create variables for total canvass inspections and total complaint inspections\n",
    "canvass_sum = canvass_zip_count.sum()\n",
    "complaint_sum = complaint_zip_count.sum()\n"
   ]
  },
  {
   "cell_type": "code",
   "execution_count": 51,
   "metadata": {},
   "outputs": [],
   "source": [
    "#Kynan calculate relative distribution of canvas and complaint based inspections per zip code\n",
    "complaint_percent = []\n",
    "canvass_percent = []\n",
    "for complaint in complaint_zip_count:\n",
    "    complaint_percent.append((complaint/complaint_sum)*100)\n",
    "\n",
    "for canvass in canvass_zip_count:\n",
    "    canvass_percent.append(canvass/canvass_sum*100)\n",
    "\n",
    "# add null value to complaint percent\n",
    "complaint_percent.append(0)\n",
    "# format to percent \n",
    "#complaint_percent = ['{:.2f}%'.format(elem) for elem in complaint_percent]\n",
    "#canvass_percent =  ['{:.2f}%'.format(elem) for elem in canvass_percent]\n",
    "#canvass_percent = canvass_percent.astype(float)\n",
    "#round complaint zip count\n",
    "#complaint_zip_count = ['{:f}'.format(elem) for elem in complaint_zip_count]"
   ]
  },
  {
   "cell_type": "code",
   "execution_count": 52,
   "metadata": {},
   "outputs": [],
   "source": [
    "#Kynan combine complaint and canvass data into new df add zip code as int\n",
    "relative_inspection_types = pd.DataFrame({\"Canvass Raw\": canvass_zip_count, \"Complaint Raw\": complaint_zip_count, \n",
    "                                          \"Canvass Percent\": canvass_percent,\n",
    "                                          \"Complaint Percent\": complaint_percent})\n",
    "zips = relative_inspection_types.index\n",
    "zips.astype(int)\n",
    "\n",
    "relative_inspection_types[\"Zip\"] = zips"
   ]
  },
  {
   "cell_type": "code",
   "execution_count": 53,
   "metadata": {},
   "outputs": [],
   "source": [
    "# Kynan calculate which zip codes get a disproportional share of complaint based inspections by calculating an expected number of complaints\n",
    "relative_inspection_types[\"Expected Complaints\"] = round(relative_inspection_types[\"Canvass Percent\"]/100 * complaint_sum)\n",
    "relative_inspection_types[\"Complaint Index\"] = relative_inspection_types[\"Complaint Raw\"]/relative_inspection_types[\"Expected Complaints\"]*100"
   ]
  },
  {
   "cell_type": "code",
   "execution_count": 54,
   "metadata": {},
   "outputs": [],
   "source": [
    "#Kynan add the differnece to df\n",
    "relative_inspection_types = relative_inspection_types.sort_values([\"Complaint Index\"])\n"
   ]
  },
  {
   "cell_type": "code",
   "execution_count": 55,
   "metadata": {},
   "outputs": [
    {
     "data": {
      "text/plain": [
       "75.62374846937608"
      ]
     },
     "execution_count": 55,
     "metadata": {},
     "output_type": "execute_result"
    }
   ],
   "source": [
    "#Kynan calculate  chi square critical value \n",
    "import scipy.stats as stats\n",
    "chi_square = pd.DataFrame([relative_inspection_types[\"Complaint Raw\"], relative_inspection_types[\"Expected Complaints\"]]).T\n",
    "chi_square = chi_square.drop([60827.0], axis = 0)\n",
    "critical_value = stats.chi2.ppf(q = 0.95, df = 57)\n",
    "critical_value\n"
   ]
  },
  {
   "cell_type": "code",
   "execution_count": 61,
   "metadata": {},
   "outputs": [
    {
     "data": {
      "text/plain": [
       "Power_divergenceResult(statistic=4556.242367484178, pvalue=0.0)"
      ]
     },
     "execution_count": 61,
     "metadata": {},
     "output_type": "execute_result"
    }
   ],
   "source": [
    "#Kynan calcualte chi square value\n",
    "stats.chisquare(chi_square['Complaint Raw'], chi_square['Expected Complaints'])"
   ]
  },
  {
   "cell_type": "code",
   "execution_count": 56,
   "metadata": {},
   "outputs": [
    {
     "name": "stdout",
     "output_type": "stream",
     "text": [
      "Since the chi square value of 3615 is larger than the critical value of 75, we conclude the results are statistically significant\n"
     ]
    }
   ],
   "source": [
    "print(\"Since the chi square value of 3615 is larger than the critical value of 75, we conclude the results are statistically significant\")"
   ]
  },
  {
   "cell_type": "code",
   "execution_count": 57,
   "metadata": {},
   "outputs": [],
   "source": [
    "#Kynan isolate and visualize the zips that have the most relative complaints\n",
    "too_many_complaints = relative_inspection_types.iloc[54:59, :]\n",
    "#x_axis = ([\"Kenwood\",\"Roseland\",\"South Shore\", \"Auburn Gresham\", \"Chatham\"])\n",
    "#plt.bar(x_axis, too_many_complaints[\"Complaint Index\"])"
   ]
  },
  {
   "cell_type": "code",
   "execution_count": 58,
   "metadata": {},
   "outputs": [],
   "source": [
    "# Kynan add income and lat/long data\n",
    "demo_path = \"Demographics.csv\"\n",
    "demo_request = pd.read_csv(demo_path)\n",
    "inspection_demo = pd.merge(relative_inspection_types, demo_request, on = \"Zip\")"
   ]
  },
  {
   "cell_type": "code",
   "execution_count": 59,
   "metadata": {},
   "outputs": [
    {
     "data": {
      "text/plain": [
       "Canvass Raw              int64\n",
       "Complaint Raw          float64\n",
       "Canvass Percent        float64\n",
       "Complaint Percent      float64\n",
       "Zip                    float64\n",
       "Expected Complaints    float64\n",
       "Complaint Index        float64\n",
       "Location                object\n",
       "Population             float64\n",
       "Income                 float64\n",
       "dtype: object"
      ]
     },
     "execution_count": 59,
     "metadata": {},
     "output_type": "execute_result"
    }
   ],
   "source": [
    "#kynan convert income to float\n",
    "\n",
    "inspection_demo.dtypes"
   ]
  },
  {
   "cell_type": "code",
   "execution_count": 60,
   "metadata": {},
   "outputs": [
    {
     "data": {
      "text/html": [
       "<div>\n",
       "<style scoped>\n",
       "    .dataframe tbody tr th:only-of-type {\n",
       "        vertical-align: middle;\n",
       "    }\n",
       "\n",
       "    .dataframe tbody tr th {\n",
       "        vertical-align: top;\n",
       "    }\n",
       "\n",
       "    .dataframe thead th {\n",
       "        text-align: right;\n",
       "    }\n",
       "</style>\n",
       "<table border=\"1\" class=\"dataframe\">\n",
       "  <thead>\n",
       "    <tr style=\"text-align: right;\">\n",
       "      <th></th>\n",
       "      <th>Canvass Raw</th>\n",
       "      <th>Complaint Raw</th>\n",
       "      <th>Canvass Percent</th>\n",
       "      <th>Complaint Percent</th>\n",
       "      <th>Zip</th>\n",
       "      <th>Expected Complaints</th>\n",
       "      <th>Complaint Index</th>\n",
       "      <th>Location</th>\n",
       "      <th>Population</th>\n",
       "      <th>Income</th>\n",
       "    </tr>\n",
       "  </thead>\n",
       "  <tbody>\n",
       "    <tr>\n",
       "      <th>0</th>\n",
       "      <td>597</td>\n",
       "      <td>68.0</td>\n",
       "      <td>0.918659</td>\n",
       "      <td>0.462145</td>\n",
       "      <td>60646.0</td>\n",
       "      <td>135.0</td>\n",
       "      <td>50.370370</td>\n",
       "      <td>41.992931, -87.760278</td>\n",
       "      <td>27016.0</td>\n",
       "      <td>58232.0</td>\n",
       "    </tr>\n",
       "    <tr>\n",
       "      <th>1</th>\n",
       "      <td>542</td>\n",
       "      <td>62.0</td>\n",
       "      <td>0.834026</td>\n",
       "      <td>0.421367</td>\n",
       "      <td>60631.0</td>\n",
       "      <td>123.0</td>\n",
       "      <td>50.406504</td>\n",
       "      <td>41.994948, -87.813225</td>\n",
       "      <td>28832.0</td>\n",
       "      <td>55316.0</td>\n",
       "    </tr>\n",
       "    <tr>\n",
       "      <th>2</th>\n",
       "      <td>1768</td>\n",
       "      <td>202.0</td>\n",
       "      <td>2.720586</td>\n",
       "      <td>1.372842</td>\n",
       "      <td>60606.0</td>\n",
       "      <td>400.0</td>\n",
       "      <td>50.500000</td>\n",
       "      <td>41.881988, -87.637329</td>\n",
       "      <td>NaN</td>\n",
       "      <td>100377.0</td>\n",
       "    </tr>\n",
       "    <tr>\n",
       "      <th>3</th>\n",
       "      <td>1536</td>\n",
       "      <td>205.0</td>\n",
       "      <td>2.363586</td>\n",
       "      <td>1.393231</td>\n",
       "      <td>60634.0</td>\n",
       "      <td>348.0</td>\n",
       "      <td>58.908046</td>\n",
       "      <td>41.946189, -87.806117</td>\n",
       "      <td>74164.0</td>\n",
       "      <td>50042.0</td>\n",
       "    </tr>\n",
       "    <tr>\n",
       "      <th>4</th>\n",
       "      <td>296</td>\n",
       "      <td>42.0</td>\n",
       "      <td>0.455483</td>\n",
       "      <td>0.285442</td>\n",
       "      <td>60655.0</td>\n",
       "      <td>67.0</td>\n",
       "      <td>62.686567</td>\n",
       "      <td>41.694722, -87.703687</td>\n",
       "      <td>29138.0</td>\n",
       "      <td>59849.0</td>\n",
       "    </tr>\n",
       "  </tbody>\n",
       "</table>\n",
       "</div>"
      ],
      "text/plain": [
       "   Canvass Raw  Complaint Raw  Canvass Percent  Complaint Percent      Zip  \\\n",
       "0          597           68.0         0.918659           0.462145  60646.0   \n",
       "1          542           62.0         0.834026           0.421367  60631.0   \n",
       "2         1768          202.0         2.720586           1.372842  60606.0   \n",
       "3         1536          205.0         2.363586           1.393231  60634.0   \n",
       "4          296           42.0         0.455483           0.285442  60655.0   \n",
       "\n",
       "   Expected Complaints  Complaint Index               Location  Population  \\\n",
       "0                135.0        50.370370  41.992931, -87.760278     27016.0   \n",
       "1                123.0        50.406504  41.994948, -87.813225     28832.0   \n",
       "2                400.0        50.500000  41.881988, -87.637329         NaN   \n",
       "3                348.0        58.908046  41.946189, -87.806117     74164.0   \n",
       "4                 67.0        62.686567  41.694722, -87.703687     29138.0   \n",
       "\n",
       "     Income  \n",
       "0   58232.0  \n",
       "1   55316.0  \n",
       "2  100377.0  \n",
       "3   50042.0  \n",
       "4   59849.0  "
      ]
     },
     "execution_count": 60,
     "metadata": {},
     "output_type": "execute_result"
    }
   ],
   "source": [
    "#Kynan review merged file.\n",
    "inspection_demo.head()"
   ]
  },
  {
   "cell_type": "code",
   "execution_count": 67,
   "metadata": {},
   "outputs": [
    {
     "data": {
      "text/plain": [
       "count        54.000000\n",
       "mean      41787.481481\n",
       "std       15768.665417\n",
       "min       14205.000000\n",
       "25%       31267.000000\n",
       "50%       40124.000000\n",
       "75%       50981.000000\n",
       "max      100377.000000\n",
       "Name: Income, dtype: float64"
      ]
     },
     "execution_count": 67,
     "metadata": {},
     "output_type": "execute_result"
    }
   ],
   "source": [
    "#Kynan look at quartiles by income\n",
    "inspection_demo[\"Income\"].describe()"
   ]
  },
  {
   "cell_type": "code",
   "execution_count": 61,
   "metadata": {},
   "outputs": [
    {
     "data": {
      "text/html": [
       "<div>\n",
       "<style scoped>\n",
       "    .dataframe tbody tr th:only-of-type {\n",
       "        vertical-align: middle;\n",
       "    }\n",
       "\n",
       "    .dataframe tbody tr th {\n",
       "        vertical-align: top;\n",
       "    }\n",
       "\n",
       "    .dataframe thead th {\n",
       "        text-align: right;\n",
       "    }\n",
       "</style>\n",
       "<table border=\"1\" class=\"dataframe\">\n",
       "  <thead>\n",
       "    <tr style=\"text-align: right;\">\n",
       "      <th></th>\n",
       "      <th>Canvass Raw</th>\n",
       "      <th>Complaint Raw</th>\n",
       "      <th>Canvass Percent</th>\n",
       "      <th>Complaint Percent</th>\n",
       "      <th>Zip</th>\n",
       "      <th>Expected Complaints</th>\n",
       "      <th>Complaint Index</th>\n",
       "      <th>Location</th>\n",
       "      <th>Population</th>\n",
       "      <th>Income</th>\n",
       "      <th>Quartile</th>\n",
       "    </tr>\n",
       "  </thead>\n",
       "  <tbody>\n",
       "    <tr>\n",
       "      <th>0</th>\n",
       "      <td>597</td>\n",
       "      <td>68.0</td>\n",
       "      <td>0.918659</td>\n",
       "      <td>0.462145</td>\n",
       "      <td>60646.0</td>\n",
       "      <td>135.0</td>\n",
       "      <td>50.370370</td>\n",
       "      <td>41.992931, -87.760278</td>\n",
       "      <td>27016.0</td>\n",
       "      <td>58232.0</td>\n",
       "      <td>$51K - $100K</td>\n",
       "    </tr>\n",
       "    <tr>\n",
       "      <th>1</th>\n",
       "      <td>542</td>\n",
       "      <td>62.0</td>\n",
       "      <td>0.834026</td>\n",
       "      <td>0.421367</td>\n",
       "      <td>60631.0</td>\n",
       "      <td>123.0</td>\n",
       "      <td>50.406504</td>\n",
       "      <td>41.994948, -87.813225</td>\n",
       "      <td>28832.0</td>\n",
       "      <td>55316.0</td>\n",
       "      <td>$51K - $100K</td>\n",
       "    </tr>\n",
       "    <tr>\n",
       "      <th>2</th>\n",
       "      <td>1768</td>\n",
       "      <td>202.0</td>\n",
       "      <td>2.720586</td>\n",
       "      <td>1.372842</td>\n",
       "      <td>60606.0</td>\n",
       "      <td>400.0</td>\n",
       "      <td>50.500000</td>\n",
       "      <td>41.881988, -87.637329</td>\n",
       "      <td>NaN</td>\n",
       "      <td>100377.0</td>\n",
       "      <td>$51K - $100K</td>\n",
       "    </tr>\n",
       "  </tbody>\n",
       "</table>\n",
       "</div>"
      ],
      "text/plain": [
       "   Canvass Raw  Complaint Raw  Canvass Percent  Complaint Percent      Zip  \\\n",
       "0          597           68.0         0.918659           0.462145  60646.0   \n",
       "1          542           62.0         0.834026           0.421367  60631.0   \n",
       "2         1768          202.0         2.720586           1.372842  60606.0   \n",
       "\n",
       "   Expected Complaints  Complaint Index               Location  Population  \\\n",
       "0                135.0        50.370370  41.992931, -87.760278     27016.0   \n",
       "1                123.0        50.406504  41.994948, -87.813225     28832.0   \n",
       "2                400.0        50.500000  41.881988, -87.637329         NaN   \n",
       "\n",
       "     Income      Quartile  \n",
       "0   58232.0  $51K - $100K  \n",
       "1   55316.0  $51K - $100K  \n",
       "2  100377.0  $51K - $100K  "
      ]
     },
     "execution_count": 61,
     "metadata": {},
     "output_type": "execute_result"
    }
   ],
   "source": [
    "#Kynan create quartile bins based on income\n",
    "\n",
    "bin_labels = [\"$14K - $31K\", \"$31K - $40K\", \"$40K - $51K\", \"$51K - $100K\"]\n",
    "inspection_demo[\"Quartile\"] = pd.qcut(inspection_demo[\"Income\"], q=[0, .25, .5, .75, 1], labels = bin_labels)\n",
    "#Kynan take a peek at data \n",
    "inspection_demo.head(3)\n",
    "                  "
   ]
  },
  {
   "cell_type": "code",
   "execution_count": 63,
   "metadata": {},
   "outputs": [],
   "source": [
    "#Kynan create variables to build a visualization based on bins\n",
    "x_axis = np.arange(len(bin_labels))\n",
    "y_ax = inspection_demo.groupby(inspection_demo[\"Quartile\"])\n",
    "y_axis = round(y_ax[\"Complaint Raw\"].sum()/y_ax[\"Expected Complaints\"].sum()*100)\n"
   ]
  },
  {
   "cell_type": "code",
   "execution_count": 64,
   "metadata": {},
   "outputs": [
    {
     "data": {
      "image/png": "[encoded data removed]",
      "text/plain": [
       "<Figure size 432x288 with 1 Axes>"
      ]
     },
     "metadata": {},
     "output_type": "display_data"
    }
   ],
   "source": [
    "#Kynan create bin bar chart\n",
    "plt.bar(x_axis, y_axis)\n",
    "tick_locations = [0, 1, 2, 3]\n",
    "plt.xticks(tick_locations, bin_labels)\n",
    "plt.title(\"Complaint Index vs. Median Household Income\")\n",
    "plt.xlabel(\"Chicago Household Income Quartiles\")\n",
    "plt.ylabel(\"Complaint Index\")\n",
    "plt.show\n",
    "plt.savefig(\"Income Quartiles vs. Complaint Index.png\")"
   ]
  },
  {
   "cell_type": "code",
   "execution_count": 65,
   "metadata": {},
   "outputs": [
    {
     "name": "stdout",
     "output_type": "stream",
     "text": [
      "The correlation between both factors is -0.53\n"
     ]
    },
    {
     "data": {
      "image/png": "[encoded data removed]",
      "text/plain": [
       "<Figure size 432x288 with 1 Axes>"
      ]
     },
     "metadata": {},
     "output_type": "display_data"
    }
   ],
   "source": [
    "#Kynan Calculate and Visulize the correlation between restaurant complaint index and median household income per zip\n",
    "income = inspection_demo[\"Income\"]\n",
    "complaints = inspection_demo[\"Complaint Index\"]\n",
    "correlation = st.pearsonr(income, complaints)\n",
    "fig, ax = plt.subplots()\n",
    "ax.set_axisbelow(True)\n",
    "print(f\"The correlation between both factors is {round(correlation[0],2)}\")\n",
    "plt.scatter(income, complaints, marker = \"o\", s = 60)\n",
    "plt.ylim(40, 310)\n",
    "plt.xlim(10000, 110000)\n",
    "plt.ylabel(\"Complaint Index\")\n",
    "plt.xlabel(\"Median Household Income\")\n",
    "ax.minorticks_on()\n",
    "plt.grid(which='major', linestyle='-', linewidth='0.5', color='red')\n",
    "plt.grid(which='minor', linestyle=':', linewidth='0.5', color='black')\n",
    "plt.title(\"Chicago Restaurant Complaints and Household Income by Zip\")\n",
    "plt.savefig(\"Income vs. Complaints.png\")"
   ]
  },
  {
   "cell_type": "code",
   "execution_count": 67,
   "metadata": {},
   "outputs": [],
   "source": [
    "# kynan prepate to look at variance for each quartile using standard deviation and box wisker plots\n",
    "\n",
    "q1= inspection_demo.loc[inspection_demo[\"Quartile\"]== \"$14K - $31K\", \"Complaint Index\"]\n",
    "q2= inspection_demo.loc[inspection_demo[\"Quartile\"]== \"$31K - $40K\", \"Complaint Index\"]\n",
    "q3 = inspection_demo.loc[inspection_demo[\"Quartile\"]== \"$40K - $51K\", \"Complaint Index\"]\n",
    "q4=  inspection_demo.loc[inspection_demo[\"Quartile\"]== \"$51K - $100K\", \"Complaint Index\"]\n",
    "quarts = [q1, q2, q3, q4]\n"
   ]
  },
  {
   "cell_type": "code",
   "execution_count": 68,
   "metadata": {},
   "outputs": [
    {
     "name": "stdout",
     "output_type": "stream",
     "text": [
      "the $14K -$31K standard deviation is 95\n",
      "the $31K - $40K standard deviation is 104\n",
      "the $40K - $51K standard deviation is 23\n",
      "the $51K - $100K standard deviation is 20\n"
     ]
    },
    {
     "data": {
      "image/png": "[encoded data removed]",
      "text/plain": [
       "<Figure size 432x288 with 1 Axes>"
      ]
     },
     "metadata": {},
     "output_type": "display_data"
    }
   ],
   "source": [
    "# kynan look at variance for each quartile using standard deviation and box wisker plots\n",
    "fig1, ax1 = plt.subplots()\n",
    "ax1.set_title(f'Restaurant Complaint Index')\n",
    "ax1.set_ylabel('Complaint Index')\n",
    "ax1.set_xlabel(\"Income Quartiles\")\n",
    "ax1.set_xticklabels(bin_labels)\n",
    "ax1.boxplot(quarts)\n",
    "print(f'the $14K -$31K standard deviation is {round(q1.std())}')\n",
    "print(f'the $31K - $40K standard deviation is {round(q2.std())}')\n",
    "print(f'the $40K - $51K standard deviation is {round(q3.std())}')\n",
    "print(f'the $51K - $100K standard deviation is {round(q4.std())}')\n",
    "plt.show()\n",
    "fig1.savefig(\"Income Quartiles and Complaint Index Variance.png\")"
   ]
  },
  {
   "cell_type": "code",
   "execution_count": 71,
   "metadata": {},
   "outputs": [],
   "source": [
    "#Kynan prep df for gmap visulaiztion by splitting Location columns and converting data to float\n",
    "inspection_demo[[\"Lat\",\"Lng\"]] = inspection_demo.Location.str.split(\",\", expand = True,)\n",
    "gmap_location= inspection_demo[[\"Lat\", \"Lng\"]].astype(float)\n"
   ]
  },
  {
   "cell_type": "code",
   "execution_count": 72,
   "metadata": {},
   "outputs": [
    {
     "ename": "ModuleNotFoundError",
     "evalue": "No module named 'api_key'",
     "output_type": "error",
     "traceback": [
      "\u001b[0;31m---------------------------------------------------------------------------\u001b[0m",
      "\u001b[0;31mModuleNotFoundError\u001b[0m                       Traceback (most recent call last)",
      "\u001b[0;32m<ipython-input-72-d60dfc0e2b04>\u001b[0m in \u001b[0;36m<module>\u001b[0;34m\u001b[0m\n\u001b[1;32m      2\u001b[0m \u001b[0;32mimport\u001b[0m \u001b[0mgmaps\u001b[0m\u001b[0;34m\u001b[0m\u001b[0;34m\u001b[0m\u001b[0m\n\u001b[1;32m      3\u001b[0m \u001b[0;32mimport\u001b[0m \u001b[0mos\u001b[0m\u001b[0;34m\u001b[0m\u001b[0;34m\u001b[0m\u001b[0m\n\u001b[0;32m----> 4\u001b[0;31m \u001b[0;32mfrom\u001b[0m \u001b[0mapi_key\u001b[0m \u001b[0;32mimport\u001b[0m \u001b[0mg_key\u001b[0m\u001b[0;34m\u001b[0m\u001b[0;34m\u001b[0m\u001b[0m\n\u001b[0m\u001b[1;32m      5\u001b[0m \u001b[0;34m\u001b[0m\u001b[0m\n\u001b[1;32m      6\u001b[0m \u001b[0mlocations\u001b[0m \u001b[0;34m=\u001b[0m \u001b[0mgmap_location\u001b[0m\u001b[0;34m\u001b[0m\u001b[0;34m\u001b[0m\u001b[0m\n",
      "\u001b[0;31mModuleNotFoundError\u001b[0m: No module named 'api_key'"
     ]
    }
   ],
   "source": [
    "#create map to visualize complaint index by zip\n",
    "import gmaps\n",
    "import os\n",
    "from api_key import g_key\n",
    "\n",
    "locations = gmap_location\n",
    "weights = inspection_demo[\"Complaint Index\"]\n",
    "center = (41.88, -87.63)\n",
    "markers = locations\n",
    "gmaps.configure(api_key = g_key)\n",
    "\n",
    "fig = gmaps.figure(center = center, zoom_level = 10)\n",
    "fig.add_layer(gmaps.heatmap_layer(locations, weights = weights, dissipating=False, max_intensity=275, point_radius = .03))\n",
    "fig"
   ]
  },
  {
   "cell_type": "code",
   "execution_count": 76,
   "metadata": {},
   "outputs": [],
   "source": [
    "#isolate zip codes from the lowest two income quartiles \n",
    "fourth = inspection_demo[~inspection_demo[\"Quartile\"].isin([\"$51K - $100K\", \"$40K - $51K\"])]\n",
    "fourth_location = fourth[[\"Lat\", \"Lng\"]].astype(float)\n",
    "decimals = 2    \n",
    "\n",
    "fourth = fourth.round({\"Complaint Index\": 0})\n"
   ]
  },
  {
   "cell_type": "code",
   "execution_count": 77,
   "metadata": {},
   "outputs": [
    {
     "data": {
      "application/vnd.jupyter.widget-view+json": {
       "model_id": "275fde4a0b1149dd89b8f6a97beb5873",
       "version_major": 2,
       "version_minor": 0
      },
      "text/plain": [
       "Figure(layout=FigureLayout(height='420px'))"
      ]
     },
     "metadata": {},
     "output_type": "display_data"
    }
   ],
   "source": [
    "info_box_template = \"\"\"\n",
    "<dl>\n",
    "<dt>Zip</dt><dd>{Zip}</dd>\n",
    "<dt>ci</dt><dd>{Complaint Index}</dd>\n",
    "</dl>\n",
    "\"\"\"\n",
    "locations = fourth_location\n",
    "weights = fourth[\"Complaint Index\"]\n",
    "center = (41.88, -87.63)\n",
    "zip_info = [info_box_template.format(**row) for index, row in fourth.iterrows()]\n",
    "marker_layer = gmaps.marker_layer(fourth_location, info_box_content = zip_info)\n",
    "\n",
    "gmaps.configure(api_key = g_key)\n",
    "\n",
    "fig = gmaps.figure(center = center, zoom_level = 11)\n",
    "fig.add_layer(gmaps.heatmap_layer(locations, weights = weights, dissipating=False, max_intensity=275, point_radius = .03))\n",
    "fig.add_layer(marker_layer)\n",
    "fig\n"
   ]
  },
  {
   "cell_type": "code",
   "execution_count": null,
   "metadata": {},
   "outputs": [],
   "source": [
    "#look at relationship between lanugage and complaints by importing census data\n",
    "lan_path = \"census_language.csv\"\n",
    "lan_request = pd.read_csv(lan_path)\n",
    "\n",
    "lan_demo = pd.merge(fourth, lan_request, on = \"Zip\")\n",
    "lan_demo.head()\n",
    "language = lan_demo[\"Non English Speaking %\"].astype(float) * 100\n",
    "index = lan_demo[\"Complaint Index\"]\n",
    "\n",
    "#create a scatter plot and calcualte correlation\n",
    "lan_factor_cor= st.pearsonr(language, index)\n",
    "print(f'the correlation between non-english speaking lower income communities and complaints is {round(lan_factor_cor[0],2)}')\n",
    "plt.scatter(language, index, marker = \"o\", s = 60)\n",
    "plt.xlabel(\"Percent Non-English Speaking Households\")\n",
    "plt.ylabel(\"Complaint Index\")\n",
    "plt.title(\"Lower Income Household Language vs Complaint Index\")\n",
    "plt.xlim(-5, 45, 5)\n",
    "ax.minorticks_on()\n",
    "plt.grid(which='major', linestyle='-', linewidth='0.5', color='red')\n",
    "plt.grid(which='minor', linestyle=':', linewidth='0.5', color='black')\n",
    "plt.savefig(\"Language vs. Complaints.png\")"
   ]
  }
 ],
 "metadata": {
  "kernelspec": {
   "display_name": "Python 3",
   "language": "python",
   "name": "python3"
  },
  "language_info": {
   "codemirror_mode": {
    "name": "ipython",
    "version": 3
   },
   "file_extension": ".py",
   "mimetype": "text/x-python",
   "name": "python",
   "nbconvert_exporter": "python",
   "pygments_lexer": "ipython3",
   "version": "3.7.3"
  }
 },
 "nbformat": 4,
 "nbformat_minor": 4
}
